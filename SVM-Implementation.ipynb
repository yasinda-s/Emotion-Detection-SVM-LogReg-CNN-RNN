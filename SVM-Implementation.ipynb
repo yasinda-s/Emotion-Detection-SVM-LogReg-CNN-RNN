{
 "cells": [
  {
   "cell_type": "code",
   "execution_count": 48,
   "metadata": {
    "colab": {
     "base_uri": "https://localhost:8080/"
    },
    "executionInfo": {
     "elapsed": 3748,
     "status": "ok",
     "timestamp": 1681204454411,
     "user": {
      "displayName": "Yasinda Samaranayake",
      "userId": "17648743904073737948"
     },
     "user_tz": -480
    },
    "id": "p2H23cAefCJu",
    "outputId": "590128fd-0d8e-4d42-dda0-e2d5f6e41c13"
   },
   "outputs": [
    {
     "name": "stdout",
     "output_type": "stream",
     "text": [
      "Drive already mounted at /content/drive; to attempt to forcibly remount, call drive.mount(\"/content/drive\", force_remount=True).\n"
     ]
    }
   ],
   "source": [
    "from google.colab import drive\n",
    "drive.mount('/content/drive')"
   ]
  },
  {
   "cell_type": "code",
   "execution_count": 49,
   "metadata": {
    "colab": {
     "base_uri": "https://localhost:8080/"
    },
    "executionInfo": {
     "elapsed": 3,
     "status": "ok",
     "timestamp": 1681204454411,
     "user": {
      "displayName": "Yasinda Samaranayake",
      "userId": "17648743904073737948"
     },
     "user_tz": -480
    },
    "id": "krR2MNVQfGfs",
    "outputId": "d02e5f10-7e25-4dc3-c1fd-ae5d1d2a6d0f"
   },
   "outputs": [
    {
     "name": "stdout",
     "output_type": "stream",
     "text": [
      "/content/drive/MyDrive/Colab Notebooks/DIA-CompanionChatbot/SVM\n"
     ]
    }
   ],
   "source": [
    "%cd /content/drive/MyDrive/Colab Notebooks/DIA-CompanionChatbot/SVM"
   ]
  },
  {
   "cell_type": "code",
   "execution_count": 62,
   "metadata": {
    "executionInfo": {
     "elapsed": 2,
     "status": "ok",
     "timestamp": 1681204489632,
     "user": {
      "displayName": "Yasinda Samaranayake",
      "userId": "17648743904073737948"
     },
     "user_tz": -480
    },
    "id": "sGJ6pS8RezUj"
   },
   "outputs": [],
   "source": [
    "import pandas as pd\n",
    "import numpy as np\n",
    "from nltk.corpus import stopwords\n",
    "from textblob import Word\n",
    "import re\n",
    "\n",
    "from sklearn import preprocessing\n",
    "from sklearn.model_selection import train_test_split\n",
    "from sklearn.feature_extraction.text import TfidfVectorizer\n",
    "from sklearn.feature_extraction.text import CountVectorizer\n",
    "from sklearn.metrics import accuracy_score\n",
    "from sklearn.naive_bayes import MultinomialNB\n",
    "from sklearn.linear_model import SGDClassifier\n",
    "from sklearn.linear_model import LogisticRegression\n",
    "from sklearn.ensemble import RandomForestClassifier\n",
    "from sklearn.calibration import CalibratedClassifierCV"
   ]
  },
  {
   "cell_type": "code",
   "execution_count": 51,
   "metadata": {
    "executionInfo": {
     "elapsed": 3,
     "status": "ok",
     "timestamp": 1681204454412,
     "user": {
      "displayName": "Yasinda Samaranayake",
      "userId": "17648743904073737948"
     },
     "user_tz": -480
    },
    "id": "5H1IMPETfQw3"
   },
   "outputs": [],
   "source": [
    "df = pd.read_csv('emotion_data.csv')\n",
    "# df = df.dropna(axis=0, subset=['Emotion'])"
   ]
  },
  {
   "cell_type": "code",
   "execution_count": 52,
   "metadata": {
    "executionInfo": {
     "elapsed": 2,
     "status": "ok",
     "timestamp": 1681204455114,
     "user": {
      "displayName": "Yasinda Samaranayake",
      "userId": "17648743904073737948"
     },
     "user_tz": -480
    },
    "id": "xJ2jc-y9gVL2"
   },
   "outputs": [],
   "source": [
    "df['Emotion'] = df['Emotion'].replace([0, 1, 2, 3, 4], ['Neutral', 'Happy', 'Sad', 'Love', 'Anger'])\n"
   ]
  },
  {
   "cell_type": "code",
   "execution_count": 53,
   "metadata": {
    "colab": {
     "base_uri": "https://localhost:8080/"
    },
    "executionInfo": {
     "elapsed": 2,
     "status": "ok",
     "timestamp": 1681204455115,
     "user": {
      "displayName": "Yasinda Samaranayake",
      "userId": "17648743904073737948"
     },
     "user_tz": -480
    },
    "id": "eDMWGUxohvKA",
    "outputId": "eb0ffdd8-22b8-4318-f103-a243589a6be7"
   },
   "outputs": [
    {
     "data": {
      "text/plain": [
       "Sad        16251\n",
       "Happy      15444\n",
       "Neutral     9643\n",
       "Love        8248\n",
       "Anger       6188\n",
       "Name: Emotion, dtype: int64"
      ]
     },
     "execution_count": 53,
     "metadata": {},
     "output_type": "execute_result"
    }
   ],
   "source": [
    "df['Emotion'].value_counts()"
   ]
  },
  {
   "cell_type": "code",
   "execution_count": 54,
   "metadata": {
    "colab": {
     "base_uri": "https://localhost:8080/"
    },
    "executionInfo": {
     "elapsed": 2,
     "status": "ok",
     "timestamp": 1681204456454,
     "user": {
      "displayName": "Yasinda Samaranayake",
      "userId": "17648743904073737948"
     },
     "user_tz": -480
    },
    "id": "4KYPxd6dkD3c",
    "outputId": "ce71a264-f63e-4bb6-9c6b-444380b6d2ab"
   },
   "outputs": [
    {
     "data": {
      "text/plain": [
       "Text       90\n",
       "Emotion     0\n",
       "dtype: int64"
      ]
     },
     "execution_count": 54,
     "metadata": {},
     "output_type": "execute_result"
    }
   ],
   "source": [
    "df.isna().sum()"
   ]
  },
  {
   "cell_type": "code",
   "execution_count": 55,
   "metadata": {
    "executionInfo": {
     "elapsed": 811,
     "status": "ok",
     "timestamp": 1681204457880,
     "user": {
      "displayName": "Yasinda Samaranayake",
      "userId": "17648743904073737948"
     },
     "user_tz": -480
    },
    "id": "mt092lALiNwT"
   },
   "outputs": [],
   "source": [
    "df = df.dropna()"
   ]
  },
  {
   "cell_type": "code",
   "execution_count": 56,
   "metadata": {
    "colab": {
     "base_uri": "https://localhost:8080/"
    },
    "executionInfo": {
     "elapsed": 2,
     "status": "ok",
     "timestamp": 1681204457880,
     "user": {
      "displayName": "Yasinda Samaranayake",
      "userId": "17648743904073737948"
     },
     "user_tz": -480
    },
    "id": "RGpc1pGDkqPj",
    "outputId": "7e8fa7ad-8b11-4750-9b98-58dc54a375eb"
   },
   "outputs": [
    {
     "name": "stderr",
     "output_type": "stream",
     "text": [
      "[nltk_data] Downloading package stopwords to /root/nltk_data...\n",
      "[nltk_data]   Package stopwords is already up-to-date!\n",
      "[nltk_data] Downloading package wordnet to /root/nltk_data...\n",
      "[nltk_data]   Package wordnet is already up-to-date!\n"
     ]
    },
    {
     "data": {
      "text/plain": [
       "True"
      ]
     },
     "execution_count": 56,
     "metadata": {},
     "output_type": "execute_result"
    }
   ],
   "source": [
    "import nltk\n",
    "nltk.download('stopwords')\n",
    "nltk.download('wordnet')\n",
    "# stop = stopwords.words('english')"
   ]
  },
  {
   "cell_type": "code",
   "execution_count": 57,
   "metadata": {
    "executionInfo": {
     "elapsed": 3,
     "status": "ok",
     "timestamp": 1681204458397,
     "user": {
      "displayName": "Yasinda Samaranayake",
      "userId": "17648743904073737948"
     },
     "user_tz": -480
    },
    "id": "F8dUCYL2kYzu"
   },
   "outputs": [],
   "source": [
    "df['Text'] = df['Text'].apply(lambda x: \" \".join(x.lower() for x in x.split()))"
   ]
  },
  {
   "cell_type": "code",
   "execution_count": 58,
   "metadata": {
    "colab": {
     "base_uri": "https://localhost:8080/"
    },
    "executionInfo": {
     "elapsed": 29180,
     "status": "ok",
     "timestamp": 1681204488489,
     "user": {
      "displayName": "Yasinda Samaranayake",
      "userId": "17648743904073737948"
     },
     "user_tz": -480
    },
    "id": "KXYvIaaNkd9b",
    "outputId": "0d830230-eb51-4f41-e2c4-a6cfad0c467a"
   },
   "outputs": [
    {
     "name": "stderr",
     "output_type": "stream",
     "text": [
      "<ipython-input-58-670e811c4678>:2: FutureWarning: The default value of regex will change from True to False in a future version.\n",
      "  df['Text'] = df['Text'].str.replace('[^\\w\\s]',' ')\n"
     ]
    }
   ],
   "source": [
    "# Removing Punctuation, Symbols\n",
    "df['Text'] = df['Text'].str.replace('[^\\w\\s]',' ')\n",
    "\n",
    "# Removing Stop Words using NLTK\n",
    "stop = stopwords.words('english')\n",
    "df['Text']= df['Text'].apply(lambda x: \" \".join(x for x in x.split() if x not in stop))\n",
    "\n",
    "#Lemmatisation\n",
    "df['Text'] = df['Text'].apply(lambda x: \" \".join([Word(word).lemmatize() for word in x.split()]))\n",
    "#Correcting Letter Repetitions\n",
    "\n",
    "def de_repeat(text):\n",
    "    pattern = re.compile(r\"(.)\\1{2,}\")\n",
    "    return pattern.sub(r\"\\1\\1\", text)\n",
    "\n",
    "df['Text'] = df['Text'].apply(lambda x: \" \".join(de_repeat(x) for x in x.split()))\n",
    "\n",
    "# Code to find the top 10,000 rarest words appearing in the data\n",
    "freq = pd.Series(' '.join(df['Text']).split()).value_counts()[-2000:]\n",
    "\n",
    "# Removing all those rarely appearing words from the data\n",
    "freq = list(freq.index)\n",
    "df['Text'] = df['Text'].apply(lambda x: \" \".join(x for x in x.split() if x not in freq))"
   ]
  },
  {
   "cell_type": "code",
   "execution_count": 59,
   "metadata": {
    "executionInfo": {
     "elapsed": 12,
     "status": "ok",
     "timestamp": 1681204488490,
     "user": {
      "displayName": "Yasinda Samaranayake",
      "userId": "17648743904073737948"
     },
     "user_tz": -480
    },
    "id": "-sLVlkC5lEOE"
   },
   "outputs": [],
   "source": [
    "#Encoding output labels 'sadness' as '1' & 'happiness' as '0'\n",
    "lbl_enc = preprocessing.LabelEncoder()\n",
    "y = lbl_enc.fit_transform(df['Emotion'])"
   ]
  },
  {
   "cell_type": "code",
   "execution_count": 60,
   "metadata": {
    "executionInfo": {
     "elapsed": 12,
     "status": "ok",
     "timestamp": 1681204488490,
     "user": {
      "displayName": "Yasinda Samaranayake",
      "userId": "17648743904073737948"
     },
     "user_tz": -480
    },
    "id": "8bVIdyWwlaL1"
   },
   "outputs": [],
   "source": [
    "# Splitting into training and testing data in 90:10 ratio\n",
    "X_train, X_val, y_train, y_val = train_test_split(df['Text'], y, stratify=y, random_state=42, test_size=0.1, shuffle=True)\n"
   ]
  },
  {
   "cell_type": "code",
   "execution_count": 81,
   "metadata": {
    "executionInfo": {
     "elapsed": 2313,
     "status": "ok",
     "timestamp": 1681205683916,
     "user": {
      "displayName": "Yasinda Samaranayake",
      "userId": "17648743904073737948"
     },
     "user_tz": -480
    },
    "id": "j2bgVcBnldy6"
   },
   "outputs": [],
   "source": [
    "# Extracting Count Vectors Parameters\n",
    "count_vect = CountVectorizer(analyzer='word')\n",
    "count_vect.fit(df['Text'])\n",
    "X_train_count =  count_vect.transform(X_train)\n",
    "X_val_count =  count_vect.transform(X_val)"
   ]
  },
  {
   "cell_type": "code",
   "execution_count": 82,
   "metadata": {
    "colab": {
     "base_uri": "https://localhost:8080/",
     "height": 118
    },
    "executionInfo": {
     "elapsed": 159318,
     "status": "ok",
     "timestamp": 1681205939093,
     "user": {
      "displayName": "Yasinda Samaranayake",
      "userId": "17648743904073737948"
     },
     "user_tz": -480
    },
    "id": "cGJ2juPnqxOI",
    "outputId": "163ffaff-451c-42b1-d6f8-4dfe0ad2b9cf"
   },
   "outputs": [
    {
     "data": {
      "text/html": [
       "<style>#sk-container-id-6 {color: black;background-color: white;}#sk-container-id-6 pre{padding: 0;}#sk-container-id-6 div.sk-toggleable {background-color: white;}#sk-container-id-6 label.sk-toggleable__label {cursor: pointer;display: block;width: 100%;margin-bottom: 0;padding: 0.3em;box-sizing: border-box;text-align: center;}#sk-container-id-6 label.sk-toggleable__label-arrow:before {content: \"▸\";float: left;margin-right: 0.25em;color: #696969;}#sk-container-id-6 label.sk-toggleable__label-arrow:hover:before {color: black;}#sk-container-id-6 div.sk-estimator:hover label.sk-toggleable__label-arrow:before {color: black;}#sk-container-id-6 div.sk-toggleable__content {max-height: 0;max-width: 0;overflow: hidden;text-align: left;background-color: #f0f8ff;}#sk-container-id-6 div.sk-toggleable__content pre {margin: 0.2em;color: black;border-radius: 0.25em;background-color: #f0f8ff;}#sk-container-id-6 input.sk-toggleable__control:checked~div.sk-toggleable__content {max-height: 200px;max-width: 100%;overflow: auto;}#sk-container-id-6 input.sk-toggleable__control:checked~label.sk-toggleable__label-arrow:before {content: \"▾\";}#sk-container-id-6 div.sk-estimator input.sk-toggleable__control:checked~label.sk-toggleable__label {background-color: #d4ebff;}#sk-container-id-6 div.sk-label input.sk-toggleable__control:checked~label.sk-toggleable__label {background-color: #d4ebff;}#sk-container-id-6 input.sk-hidden--visually {border: 0;clip: rect(1px 1px 1px 1px);clip: rect(1px, 1px, 1px, 1px);height: 1px;margin: -1px;overflow: hidden;padding: 0;position: absolute;width: 1px;}#sk-container-id-6 div.sk-estimator {font-family: monospace;background-color: #f0f8ff;border: 1px dotted black;border-radius: 0.25em;box-sizing: border-box;margin-bottom: 0.5em;}#sk-container-id-6 div.sk-estimator:hover {background-color: #d4ebff;}#sk-container-id-6 div.sk-parallel-item::after {content: \"\";width: 100%;border-bottom: 1px solid gray;flex-grow: 1;}#sk-container-id-6 div.sk-label:hover label.sk-toggleable__label {background-color: #d4ebff;}#sk-container-id-6 div.sk-serial::before {content: \"\";position: absolute;border-left: 1px solid gray;box-sizing: border-box;top: 0;bottom: 0;left: 50%;z-index: 0;}#sk-container-id-6 div.sk-serial {display: flex;flex-direction: column;align-items: center;background-color: white;padding-right: 0.2em;padding-left: 0.2em;position: relative;}#sk-container-id-6 div.sk-item {position: relative;z-index: 1;}#sk-container-id-6 div.sk-parallel {display: flex;align-items: stretch;justify-content: center;background-color: white;position: relative;}#sk-container-id-6 div.sk-item::before, #sk-container-id-6 div.sk-parallel-item::before {content: \"\";position: absolute;border-left: 1px solid gray;box-sizing: border-box;top: 0;bottom: 0;left: 50%;z-index: -1;}#sk-container-id-6 div.sk-parallel-item {display: flex;flex-direction: column;z-index: 1;position: relative;background-color: white;}#sk-container-id-6 div.sk-parallel-item:first-child::after {align-self: flex-end;width: 50%;}#sk-container-id-6 div.sk-parallel-item:last-child::after {align-self: flex-start;width: 50%;}#sk-container-id-6 div.sk-parallel-item:only-child::after {width: 0;}#sk-container-id-6 div.sk-dashed-wrapped {border: 1px dashed gray;margin: 0 0.4em 0.5em 0.4em;box-sizing: border-box;padding-bottom: 0.4em;background-color: white;}#sk-container-id-6 div.sk-label label {font-family: monospace;font-weight: bold;display: inline-block;line-height: 1.2em;}#sk-container-id-6 div.sk-label-container {text-align: center;}#sk-container-id-6 div.sk-container {/* jupyter's `normalize.less` sets `[hidden] { display: none; }` but bootstrap.min.css set `[hidden] { display: none !important; }` so we also need the `!important` here to be able to override the default hidden behavior on the sphinx rendered scikit-learn.org. See: https://github.com/scikit-learn/scikit-learn/issues/21755 */display: inline-block !important;position: relative;}#sk-container-id-6 div.sk-text-repr-fallback {display: none;}</style><div id=\"sk-container-id-6\" class=\"sk-top-container\"><div class=\"sk-text-repr-fallback\"><pre>CalibratedClassifierCV(estimator=SGDClassifier(alpha=0.001, random_state=5,\n",
       "                                               tol=None))</pre><b>In a Jupyter environment, please rerun this cell to show the HTML representation or trust the notebook. <br />On GitHub, the HTML representation is unable to render, please try loading this page with nbviewer.org.</b></div><div class=\"sk-container\" hidden><div class=\"sk-item sk-dashed-wrapped\"><div class=\"sk-label-container\"><div class=\"sk-label sk-toggleable\"><input class=\"sk-toggleable__control sk-hidden--visually\" id=\"sk-estimator-id-12\" type=\"checkbox\" ><label for=\"sk-estimator-id-12\" class=\"sk-toggleable__label sk-toggleable__label-arrow\">CalibratedClassifierCV</label><div class=\"sk-toggleable__content\"><pre>CalibratedClassifierCV(estimator=SGDClassifier(alpha=0.001, random_state=5,\n",
       "                                               tol=None))</pre></div></div></div><div class=\"sk-parallel\"><div class=\"sk-parallel-item\"><div class=\"sk-item\"><div class=\"sk-label-container\"><div class=\"sk-label sk-toggleable\"><input class=\"sk-toggleable__control sk-hidden--visually\" id=\"sk-estimator-id-13\" type=\"checkbox\" ><label for=\"sk-estimator-id-13\" class=\"sk-toggleable__label sk-toggleable__label-arrow\">estimator: SGDClassifier</label><div class=\"sk-toggleable__content\"><pre>SGDClassifier(alpha=0.001, random_state=5, tol=None)</pre></div></div></div><div class=\"sk-serial\"><div class=\"sk-item\"><div class=\"sk-estimator sk-toggleable\"><input class=\"sk-toggleable__control sk-hidden--visually\" id=\"sk-estimator-id-14\" type=\"checkbox\" ><label for=\"sk-estimator-id-14\" class=\"sk-toggleable__label sk-toggleable__label-arrow\">SGDClassifier</label><div class=\"sk-toggleable__content\"><pre>SGDClassifier(alpha=0.001, random_state=5, tol=None)</pre></div></div></div></div></div></div></div></div></div></div>"
      ],
      "text/plain": [
       "CalibratedClassifierCV(estimator=SGDClassifier(alpha=0.001, random_state=5,\n",
       "                                               tol=None))"
      ]
     },
     "execution_count": 82,
     "metadata": {},
     "output_type": "execute_result"
    }
   ],
   "source": [
    "# Model 2: Linear SVM - figure out accuracy later, check if proba works\n",
    "lsvm = SGDClassifier(alpha=0.001, random_state=5, tol=None)\n",
    "lsvm_calibrated = CalibratedClassifierCV(lsvm)\n",
    "lsvm_calibrated.fit(X_train_count, y_train)\n"
   ]
  },
  {
   "cell_type": "code",
   "execution_count": 83,
   "metadata": {
    "colab": {
     "base_uri": "https://localhost:8080/"
    },
    "executionInfo": {
     "elapsed": 3,
     "status": "ok",
     "timestamp": 1681205939093,
     "user": {
      "displayName": "Yasinda Samaranayake",
      "userId": "17648743904073737948"
     },
     "user_tz": -480
    },
    "id": "mVl9eyMvrGne",
    "outputId": "e76238d1-670c-4f63-df69-3a45a00b78ae"
   },
   "outputs": [
    {
     "name": "stdout",
     "output_type": "stream",
     "text": [
      "lsvm using count vectors accuracy 0.568863350691327\n"
     ]
    }
   ],
   "source": [
    "y_pred = lsvm_calibrated.predict(X_val_count)\n",
    "print('lsvm using count vectors accuracy %s' % accuracy_score(y_pred, y_val))"
   ]
  },
  {
   "cell_type": "code",
   "execution_count": 12,
   "metadata": {
    "executionInfo": {
     "elapsed": 360,
     "status": "ok",
     "timestamp": 1681206025274,
     "user": {
      "displayName": "Yasinda Samaranayake",
      "userId": "17648743904073737948"
     },
     "user_tz": -480
    },
    "id": "RSftPOBLmaUt"
   },
   "outputs": [],
   "source": [
    "import pickle"
   ]
  },
  {
   "cell_type": "code",
   "execution_count": 22,
   "metadata": {},
   "outputs": [],
   "source": [
    "#0 - Anger, 1 - Happy, 2 - Love, 3 - Neutral, 4 - Sad"
   ]
  },
  {
   "cell_type": "code",
   "execution_count": 13,
   "metadata": {
    "executionInfo": {
     "elapsed": 549,
     "status": "ok",
     "timestamp": 1681206084084,
     "user": {
      "displayName": "Yasinda Samaranayake",
      "userId": "17648743904073737948"
     },
     "user_tz": -480
    },
    "id": "aEIJKD05h5rh"
   },
   "outputs": [],
   "source": [
    "# with open(\"SVMCountVectorizer\", 'wb') as fout:\n",
    "#     pickle.dump((lsvm_calibrated, count_vect), fout)"
   ]
  },
  {
   "cell_type": "code",
   "execution_count": 1,
   "metadata": {},
   "outputs": [
    {
     "name": "stderr",
     "output_type": "stream",
     "text": [
      "[nltk_data] Downloading package stopwords to\n",
      "[nltk_data]     C:\\Users\\94773\\AppData\\Roaming\\nltk_data...\n",
      "[nltk_data]   Package stopwords is already up-to-date!\n",
      "[nltk_data] Downloading package wordnet to\n",
      "[nltk_data]     C:\\Users\\94773\\AppData\\Roaming\\nltk_data...\n",
      "[nltk_data]   Package wordnet is already up-to-date!\n"
     ]
    }
   ],
   "source": [
    "import nltk\n",
    "nltk.download('stopwords')\n",
    "nltk.download('wordnet')\n",
    "\n",
    "from nltk.corpus import stopwords\n",
    "from textblob import Word\n",
    "\n",
    "stop = stopwords.words('english')"
   ]
  },
  {
   "cell_type": "code",
   "execution_count": 2,
   "metadata": {
    "executionInfo": {
     "elapsed": 353,
     "status": "ok",
     "timestamp": 1681205557514,
     "user": {
      "displayName": "Yasinda Samaranayake",
      "userId": "17648743904073737948"
     },
     "user_tz": -480
    },
    "id": "4m24U4ZkmZFB"
   },
   "outputs": [
    {
     "ename": "NameError",
     "evalue": "name 'pickle' is not defined",
     "output_type": "error",
     "traceback": [
      "\u001b[1;31m---------------------------------------------------------------------------\u001b[0m",
      "\u001b[1;31mNameError\u001b[0m                                 Traceback (most recent call last)",
      "Input \u001b[1;32mIn [2]\u001b[0m, in \u001b[0;36m<cell line: 1>\u001b[1;34m()\u001b[0m\n\u001b[0;32m      1\u001b[0m \u001b[38;5;28;01mwith\u001b[39;00m \u001b[38;5;28mopen\u001b[39m(\u001b[38;5;124m'\u001b[39m\u001b[38;5;124mSVMCountVectorizer\u001b[39m\u001b[38;5;124m'\u001b[39m, \u001b[38;5;124m'\u001b[39m\u001b[38;5;124mrb\u001b[39m\u001b[38;5;124m'\u001b[39m) \u001b[38;5;28;01mas\u001b[39;00m f:\n\u001b[1;32m----> 2\u001b[0m     svm_model, vectorizer \u001b[38;5;241m=\u001b[39m \u001b[43mpickle\u001b[49m\u001b[38;5;241m.\u001b[39mload(f)\n",
      "\u001b[1;31mNameError\u001b[0m: name 'pickle' is not defined"
     ]
    }
   ],
   "source": [
    "with open('SVMCountVectorizer', 'rb') as f:\n",
    "    svm_model, vectorizer = pickle.load(f)"
   ]
  },
  {
   "cell_type": "code",
   "execution_count": null,
   "metadata": {},
   "outputs": [],
   "source": [
    "svm_model "
   ]
  },
  {
   "cell_type": "code",
   "execution_count": 16,
   "metadata": {
    "executionInfo": {
     "elapsed": 670,
     "status": "ok",
     "timestamp": 1681205561990,
     "user": {
      "displayName": "Yasinda Samaranayake",
      "userId": "17648743904073737948"
     },
     "user_tz": -480
    },
    "id": "BqYyWKWMm087"
   },
   "outputs": [],
   "source": [
    "to_test = \"Success is right around the corner. Lets celebrate this victory\""
   ]
  },
  {
   "cell_type": "code",
   "execution_count": 17,
   "metadata": {
    "executionInfo": {
     "elapsed": 2,
     "status": "ok",
     "timestamp": 1681205564087,
     "user": {
      "displayName": "Yasinda Samaranayake",
      "userId": "17648743904073737948"
     },
     "user_tz": -480
    },
    "id": "OZwH4WYom7iu"
   },
   "outputs": [],
   "source": [
    "to_test = to_test.replace('[^\\w\\s]',' ')\n",
    "to_test = ' '.join([word for word in to_test.split() if word not in stop])\n",
    "to_test = \" \".join([Word(word).lemmatize() for word in to_test.split()])"
   ]
  },
  {
   "cell_type": "code",
   "execution_count": 18,
   "metadata": {
    "executionInfo": {
     "elapsed": 2,
     "status": "ok",
     "timestamp": 1681205565640,
     "user": {
      "displayName": "Yasinda Samaranayake",
      "userId": "17648743904073737948"
     },
     "user_tz": -480
    },
    "id": "b9T6CjCfkN2m"
   },
   "outputs": [],
   "source": [
    "# Extracting Count Vectors feature from our tweets\n",
    "tweet_count = vectorizer.transform([to_test])"
   ]
  },
  {
   "cell_type": "code",
   "execution_count": 19,
   "metadata": {
    "colab": {
     "base_uri": "https://localhost:8080/"
    },
    "executionInfo": {
     "elapsed": 322,
     "status": "ok",
     "timestamp": 1681205567907,
     "user": {
      "displayName": "Yasinda Samaranayake",
      "userId": "17648743904073737948"
     },
     "user_tz": -480
    },
    "id": "mMHkLj8qkZgn",
    "outputId": "d93e5604-a3ee-4688-9289-66fef02baecd"
   },
   "outputs": [
    {
     "data": {
      "text/plain": [
       "<1x30685 sparse matrix of type '<class 'numpy.int64'>'\n",
       "\twith 6 stored elements in Compressed Sparse Row format>"
      ]
     },
     "execution_count": 19,
     "metadata": {},
     "output_type": "execute_result"
    }
   ],
   "source": [
    "tweet_count"
   ]
  },
  {
   "cell_type": "code",
   "execution_count": 24,
   "metadata": {
    "colab": {
     "base_uri": "https://localhost:8080/"
    },
    "executionInfo": {
     "elapsed": 292,
     "status": "ok",
     "timestamp": 1681205584095,
     "user": {
      "displayName": "Yasinda Samaranayake",
      "userId": "17648743904073737948"
     },
     "user_tz": -480
    },
    "id": "74KqkMX-m-mi",
    "outputId": "20bba6d1-b088-4243-b123-2d90745a2700"
   },
   "outputs": [],
   "source": [
    "pred = svm_model.predict_proba(tweet_count)"
   ]
  },
  {
   "cell_type": "code",
   "execution_count": 66,
   "metadata": {},
   "outputs": [],
   "source": [
    "emotion_scores = {\n",
    "    \"anger\": 0,\n",
    "    \"happy\": 0,\n",
    "    \"love\": 0,\n",
    "    \"neutral\": 0,\n",
    "    \"sad\": 0\n",
    "}"
   ]
  },
  {
   "cell_type": "code",
   "execution_count": 73,
   "metadata": {},
   "outputs": [],
   "source": [
    "classes = [\"anger\", \"happy\", \"love\", \"neutral\", \"sad\"]"
   ]
  },
  {
   "cell_type": "code",
   "execution_count": 67,
   "metadata": {},
   "outputs": [
    {
     "name": "stdout",
     "output_type": "stream",
     "text": [
      "{'anger': 0, 'happy': 0, 'love': 0, 'neutral': 0, 'sad': 0}\n"
     ]
    }
   ],
   "source": [
    "print(emotion_scores)"
   ]
  },
  {
   "cell_type": "code",
   "execution_count": 69,
   "metadata": {},
   "outputs": [
    {
     "data": {
      "text/plain": [
       "array([0.03498243, 0.54653028, 0.08010654, 0.16164571, 0.17673505])"
      ]
     },
     "execution_count": 69,
     "metadata": {},
     "output_type": "execute_result"
    }
   ],
   "source": [
    "pred[0]"
   ]
  },
  {
   "cell_type": "code",
   "execution_count": 70,
   "metadata": {},
   "outputs": [],
   "source": [
    "emotion_scores['anger'] += pred[0][0]\n",
    "emotion_scores['happy'] += pred[0][1]\n",
    "emotion_scores['love'] += pred[0][2]\n",
    "emotion_scores['neutral'] += pred[0][3]\n",
    "emotion_scores['sad'] += pred[0][4]"
   ]
  },
  {
   "cell_type": "code",
   "execution_count": 71,
   "metadata": {},
   "outputs": [
    {
     "name": "stdout",
     "output_type": "stream",
     "text": [
      "{'anger': 0.034982430501194185, 'happy': 0.5465302762851102, 'love': 0.08010653755654662, 'neutral': 0.1616457070510107, 'sad': 0.17673504860613826}\n"
     ]
    }
   ],
   "source": [
    "print(emotion_scores)"
   ]
  },
  {
   "cell_type": "code",
   "execution_count": 78,
   "metadata": {},
   "outputs": [
    {
     "data": {
      "text/plain": [
       "'happy'"
      ]
     },
     "execution_count": 78,
     "metadata": {},
     "output_type": "execute_result"
    }
   ],
   "source": [
    "highest_score = max(pred[0])\n",
    "prediction_list = list(pred[0])\n",
    "indexOfMaxEmotion = prediction_list.index(highest_score)\n",
    "classes[indexOfMaxEmotion]"
   ]
  },
  {
   "cell_type": "code",
   "execution_count": 1,
   "metadata": {},
   "outputs": [],
   "source": [
    "#Testing the model on 50, handpicked messages"
   ]
  },
  {
   "cell_type": "code",
   "execution_count": 90,
   "metadata": {},
   "outputs": [
    {
     "name": "stderr",
     "output_type": "stream",
     "text": [
      "[nltk_data] Downloading package stopwords to\n",
      "[nltk_data]     C:\\Users\\94773\\AppData\\Roaming\\nltk_data...\n",
      "[nltk_data]   Package stopwords is already up-to-date!\n",
      "[nltk_data] Downloading package wordnet to\n",
      "[nltk_data]     C:\\Users\\94773\\AppData\\Roaming\\nltk_data...\n",
      "[nltk_data]   Package wordnet is already up-to-date!\n"
     ]
    }
   ],
   "source": [
    "import pickle\n",
    "import nltk\n",
    "nltk.download('stopwords')\n",
    "nltk.download('wordnet')\n",
    "\n",
    "from nltk.corpus import stopwords\n",
    "from textblob import Word\n",
    "\n",
    "stop = stopwords.words('english')"
   ]
  },
  {
   "cell_type": "code",
   "execution_count": 91,
   "metadata": {},
   "outputs": [],
   "source": [
    "with open('SVMCountVectorizer', 'rb') as f:\n",
    "    svm_model, vectorizer = pickle.load(f)"
   ]
  },
  {
   "cell_type": "code",
   "execution_count": 92,
   "metadata": {},
   "outputs": [],
   "source": [
    "import pandas as pd\n",
    "\n",
    "df = pd.read_csv(\"Handpicked.csv\")"
   ]
  },
  {
   "cell_type": "code",
   "execution_count": 93,
   "metadata": {},
   "outputs": [],
   "source": [
    "#0 - Anger, 1 - Happy, 2 - Love, 3 - Neutral, 4 - Sad"
   ]
  },
  {
   "cell_type": "code",
   "execution_count": 94,
   "metadata": {},
   "outputs": [
    {
     "data": {
      "text/html": [
       "<div>\n",
       "<style scoped>\n",
       "    .dataframe tbody tr th:only-of-type {\n",
       "        vertical-align: middle;\n",
       "    }\n",
       "\n",
       "    .dataframe tbody tr th {\n",
       "        vertical-align: top;\n",
       "    }\n",
       "\n",
       "    .dataframe thead th {\n",
       "        text-align: right;\n",
       "    }\n",
       "</style>\n",
       "<table border=\"1\" class=\"dataframe\">\n",
       "  <thead>\n",
       "    <tr style=\"text-align: right;\">\n",
       "      <th></th>\n",
       "      <th>Text</th>\n",
       "      <th>Emotion</th>\n",
       "      <th>EmotionSVMLOGREG</th>\n",
       "    </tr>\n",
       "  </thead>\n",
       "  <tbody>\n",
       "    <tr>\n",
       "      <th>0</th>\n",
       "      <td>I don't feel like doing anything today, everyt...</td>\n",
       "      <td>sad</td>\n",
       "      <td>4</td>\n",
       "    </tr>\n",
       "    <tr>\n",
       "      <th>1</th>\n",
       "      <td>I just found out my grandmother passed away an...</td>\n",
       "      <td>sad</td>\n",
       "      <td>4</td>\n",
       "    </tr>\n",
       "    <tr>\n",
       "      <th>2</th>\n",
       "      <td>I feel so alone and isolated, like no one unde...</td>\n",
       "      <td>sad</td>\n",
       "      <td>4</td>\n",
       "    </tr>\n",
       "    <tr>\n",
       "      <th>3</th>\n",
       "      <td>I can't believe I lost my job, how am I going ...</td>\n",
       "      <td>sad</td>\n",
       "      <td>4</td>\n",
       "    </tr>\n",
       "    <tr>\n",
       "      <th>4</th>\n",
       "      <td>I miss my ex so much, it's hard to move on.</td>\n",
       "      <td>sad</td>\n",
       "      <td>4</td>\n",
       "    </tr>\n",
       "  </tbody>\n",
       "</table>\n",
       "</div>"
      ],
      "text/plain": [
       "                                                Text Emotion  EmotionSVMLOGREG\n",
       "0  I don't feel like doing anything today, everyt...     sad                 4\n",
       "1  I just found out my grandmother passed away an...     sad                 4\n",
       "2  I feel so alone and isolated, like no one unde...     sad                 4\n",
       "3  I can't believe I lost my job, how am I going ...     sad                 4\n",
       "4        I miss my ex so much, it's hard to move on.     sad                 4"
      ]
     },
     "execution_count": 94,
     "metadata": {},
     "output_type": "execute_result"
    }
   ],
   "source": [
    "df.head()"
   ]
  },
  {
   "cell_type": "code",
   "execution_count": 95,
   "metadata": {},
   "outputs": [],
   "source": [
    "actual_emotion = df['EmotionSVMLOGREG']"
   ]
  },
  {
   "cell_type": "code",
   "execution_count": 96,
   "metadata": {},
   "outputs": [],
   "source": [
    "to_test = df['Text']"
   ]
  },
  {
   "cell_type": "code",
   "execution_count": 97,
   "metadata": {},
   "outputs": [
    {
     "data": {
      "text/plain": [
       "50"
      ]
     },
     "execution_count": 97,
     "metadata": {},
     "output_type": "execute_result"
    }
   ],
   "source": [
    "len(to_test)"
   ]
  },
  {
   "cell_type": "code",
   "execution_count": 98,
   "metadata": {},
   "outputs": [],
   "source": [
    "def toCountVectors(text):\n",
    "    text = text.replace('[^\\w\\s]',' ')\n",
    "    text = ' '.join([word for word in text.split() if word not in stop])\n",
    "    text = \" \".join([Word(word).lemmatize() for word in text.split()])\n",
    "    print(text)\n",
    "#     tweet_count = vectorizer.transform([text])\n",
    "    return text"
   ]
  },
  {
   "cell_type": "code",
   "execution_count": 99,
   "metadata": {},
   "outputs": [
    {
     "name": "stdout",
     "output_type": "stream",
     "text": [
      "I feel like anything today, everything seems pointless.\n",
      "I found grandmother passed away I can't stop crying.\n",
      "I feel alone isolated, like one understands me.\n",
      "I can't believe I lost job, I going pay bills?\n",
      "I miss ex much, hard move on.\n",
      "I'm struggling depression hard find motivation get bed.\n",
      "I feel like I'm constantly disappointing everyone around me.\n",
      "I received bad news doctor I'm feeling really down.\n",
      "I'm heartbroken, pet passed away.\n",
      "I feel like I'm stuck rut I know break free.\n",
      "I can't believe me, I'm furious!\n",
      "I'm sick tired dealing nonsense, I'm snap.\n",
      "Why everything difficult? I'm getting really angry.\n",
      "I feel disrespected undervalued, making angry.\n",
      "I can't stand unfair situation is, making really angry.\n",
      "I'm angry letting thing get far.\n",
      "I'm lose temper keep happening.\n",
      "I can't believe audacity say me, I'm angry.\n",
      "I'm frustrated situation, making see red.\n",
      "I'm going stand anymore, I'm feeling really angry fed up.\n",
      "I'm looking forward trying new restaurant town.\n",
      "I meeting 2 pm tomorrow, I need finish work then.\n",
      "The weather today sunny high 75 degrees.\n",
      "I'm currently reading book World War II.\n",
      "I need go grocery shopping laundry weekend.\n",
      "I'm thinking going vacation next month, I decided yet.\n",
      "I'm enjoying cup coffee I catch work.\n",
      "My favorite color blue, what's yours?\n",
      "I'm learning play guitar free time.\n",
      "I'm planning go run work clear mind.\n",
      "I love spending time mother\n",
      "You make day brighter I love much\n",
      "I think I met soulmate\n",
      "I head heel current partner\n",
      "I love family much\n",
      "OMG I LOVE STEPH CURRY\n",
      "There's nothing I wont love life\n",
      "I love around other, complete me.\n",
      "I appreciate everything me, I love every day.\n",
      "I can't imagine life without you, mean everything me.\n",
      "I'm happy I got job I wanted!\n",
      "Today beautiful day, I feel happy alive.\n",
      "I'm thrilled going vacation next week!\n",
      "I found I'm going parent, I'm overjoyed!\n",
      "I'm grateful family friends, make incredibly happy.\n",
      "I'm feeling happy content right now, life good.\n",
      "I love spending time thing make happy, like reading going walks.\n",
      "I'm really proud accomplishing goals, make happy see hard work pay off.\n",
      "I love waking early weekend enjoying quiet morning cup coffee, make happy.\n",
      "I'm happy surrounded positivity good vibes, make life much better.\n"
     ]
    }
   ],
   "source": [
    "inputData = []\n",
    "\n",
    "for i in range(len(to_test)):\n",
    "    CV = toCountVectors(to_test[i])\n",
    "    inputData.append(CV)"
   ]
  },
  {
   "cell_type": "code",
   "execution_count": 100,
   "metadata": {},
   "outputs": [
    {
     "data": {
      "text/plain": [
       "50"
      ]
     },
     "execution_count": 100,
     "metadata": {},
     "output_type": "execute_result"
    }
   ],
   "source": [
    "len(inputData)"
   ]
  },
  {
   "cell_type": "code",
   "execution_count": 101,
   "metadata": {},
   "outputs": [],
   "source": [
    "countVectorizers = vectorizer.transform(inputData)"
   ]
  },
  {
   "cell_type": "code",
   "execution_count": 102,
   "metadata": {},
   "outputs": [
    {
     "data": {
      "text/plain": [
       "<50x30685 sparse matrix of type '<class 'numpy.int64'>'\n",
       "\twith 282 stored elements in Compressed Sparse Row format>"
      ]
     },
     "execution_count": 102,
     "metadata": {},
     "output_type": "execute_result"
    }
   ],
   "source": [
    "countVectorizers"
   ]
  },
  {
   "cell_type": "code",
   "execution_count": 103,
   "metadata": {},
   "outputs": [],
   "source": [
    "pred = svm_model.predict(countVectorizers)"
   ]
  },
  {
   "cell_type": "code",
   "execution_count": 104,
   "metadata": {},
   "outputs": [
    {
     "data": {
      "text/plain": [
       "array([4, 3, 4, 4, 4, 1, 4, 4, 4, 4, 1, 4, 0, 0, 0, 0, 4, 0, 1, 0, 4, 4,\n",
       "       1, 4, 4, 4, 3, 1, 1, 4, 2, 2, 3, 3, 2, 2, 2, 2, 2, 4, 4, 4, 1, 1,\n",
       "       1, 1, 2, 1, 2, 1], dtype=int64)"
      ]
     },
     "execution_count": 104,
     "metadata": {},
     "output_type": "execute_result"
    }
   ],
   "source": [
    "#0 - Anger, 1 - Happy, 2 - Love, 3 - Neutral, 4 - Sad\n",
    "pred"
   ]
  },
  {
   "cell_type": "code",
   "execution_count": 121,
   "metadata": {},
   "outputs": [],
   "source": [
    "from sklearn.metrics import classification_report\n",
    "import seaborn as sn\n",
    "from sklearn.metrics import confusion_matrix\n",
    "import matplotlib.pyplot as plt\n",
    "import numpy\n",
    "from sklearn import metrics"
   ]
  },
  {
   "cell_type": "code",
   "execution_count": 112,
   "metadata": {},
   "outputs": [
    {
     "name": "stdout",
     "output_type": "stream",
     "text": [
      "              precision    recall  f1-score   support\n",
      "\n",
      "           0       1.00      0.60      0.75        10\n",
      "           1       0.50      0.60      0.55        10\n",
      "           2       0.78      0.70      0.74        10\n",
      "           3       0.25      0.10      0.14        10\n",
      "           4       0.42      0.80      0.55        10\n",
      "\n",
      "    accuracy                           0.56        50\n",
      "   macro avg       0.59      0.56      0.55        50\n",
      "weighted avg       0.59      0.56      0.55        50\n",
      "\n"
     ]
    }
   ],
   "source": [
    "print(classification_report(actual_emotion, pred))"
   ]
  },
  {
   "cell_type": "code",
   "execution_count": 124,
   "metadata": {},
   "outputs": [],
   "source": [
    "x = confusion_matrix(actual_emotion, pred)"
   ]
  },
  {
   "cell_type": "code",
   "execution_count": 125,
   "metadata": {},
   "outputs": [],
   "source": [
    "classes = [\"Anger\", \"Happy\", \"Love\", \"Neutral\", \"Sad\"]"
   ]
  },
  {
   "cell_type": "code",
   "execution_count": 129,
   "metadata": {},
   "outputs": [
    {
     "data": {
      "text/plain": [
       "<AxesSubplot:>"
      ]
     },
     "execution_count": 129,
     "metadata": {},
     "output_type": "execute_result"
    },
    {
     "data": {
      "image/png": "[encoded data removed]",
      "text/plain": [
       "<Figure size 1080x720 with 2 Axes>"
      ]
     },
     "metadata": {
      "needs_background": "light"
     },
     "output_type": "display_data"
    }
   ],
   "source": [
    "df_cm = pd.DataFrame(x, index = [i for i in classes],\n",
    "                  columns = [i for i in classes])\n",
    "plt.figure(figsize = (15,10))\n",
    "\n",
    "sn.heatmap(df_cm, annot=True)"
   ]
  },
  {
   "cell_type": "code",
   "execution_count": 55,
   "metadata": {},
   "outputs": [],
   "source": [
    "#Testing the model on 8 different messages"
   ]
  },
  {
   "cell_type": "code",
   "execution_count": 2,
   "metadata": {},
   "outputs": [
    {
     "name": "stderr",
     "output_type": "stream",
     "text": [
      "[nltk_data] Downloading package stopwords to\n",
      "[nltk_data]     C:\\Users\\94773\\AppData\\Roaming\\nltk_data...\n",
      "[nltk_data]   Package stopwords is already up-to-date!\n",
      "[nltk_data] Downloading package wordnet to\n",
      "[nltk_data]     C:\\Users\\94773\\AppData\\Roaming\\nltk_data...\n",
      "[nltk_data]   Package wordnet is already up-to-date!\n"
     ]
    }
   ],
   "source": [
    "import pickle\n",
    "import nltk\n",
    "nltk.download('stopwords')\n",
    "nltk.download('wordnet')\n",
    "\n",
    "from nltk.corpus import stopwords\n",
    "from textblob import Word\n",
    "\n",
    "stop = stopwords.words('english')"
   ]
  },
  {
   "cell_type": "code",
   "execution_count": 3,
   "metadata": {},
   "outputs": [],
   "source": [
    "with open('SVMCountVectorizer2.0', 'rb') as f:\n",
    "    svm_model, vectorizer = pickle.load(f)"
   ]
  },
  {
   "cell_type": "code",
   "execution_count": 52,
   "metadata": {},
   "outputs": [],
   "source": [
    "text = \"im happy to meet my parents soon!\""
   ]
  },
  {
   "cell_type": "code",
   "execution_count": 53,
   "metadata": {},
   "outputs": [
    {
     "name": "stdout",
     "output_type": "stream",
     "text": [
      "im happy meet parent soon!\n"
     ]
    }
   ],
   "source": [
    "text = text.replace('[^\\w\\s]',' ')\n",
    "text = ' '.join([word for word in text.split() if word not in stop])\n",
    "text = \" \".join([Word(word).lemmatize() for word in text.split()])\n",
    "print(text)\n",
    "countVectorizers = vectorizer.transform([text])\n",
    "pred = svm_model.predict_proba(countVectorizers)\n",
    "#0 - Anger, 1 - Happy, 2 - Love, 3 - Neutral, 4 - Sad"
   ]
  },
  {
   "cell_type": "code",
   "execution_count": 54,
   "metadata": {},
   "outputs": [
    {
     "name": "stdout",
     "output_type": "stream",
     "text": [
      "[[0.05777645 0.33746911 0.13745779 0.22297029 0.24432636]]\n"
     ]
    }
   ],
   "source": [
    "print(pred)\n",
    "# print(pred)"
   ]
  },
  {
   "cell_type": "code",
   "execution_count": null,
   "metadata": {},
   "outputs": [],
   "source": []
  }
 ],
 "metadata": {
  "colab": {
   "authorship_tag": "ABX9TyOqwcVr9twOBcwuQQMZsdJF",
   "provenance": []
  },
  "kernelspec": {
   "display_name": "Python 3 (ipykernel)",
   "language": "python",
   "name": "python3"
  },
  "language_info": {
   "codemirror_mode": {
    "name": "ipython",
    "version": 3
   },
   "file_extension": ".py",
   "mimetype": "text/x-python",
   "name": "python",
   "nbconvert_exporter": "python",
   "pygments_lexer": "ipython3",
   "version": "3.9.12"
  }
 },
 "nbformat": 4,
 "nbformat_minor": 1
}
