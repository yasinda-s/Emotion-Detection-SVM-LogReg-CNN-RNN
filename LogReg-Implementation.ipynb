{
 "cells": [
  {
   "cell_type": "code",
   "execution_count": 1,
   "metadata": {
    "colab": {
     "base_uri": "https://localhost:8080/"
    },
    "executionInfo": {
     "elapsed": 23752,
     "status": "ok",
     "timestamp": 1681206338139,
     "user": {
      "displayName": "Yasinda Samaranayake",
      "userId": "17648743904073737948"
     },
     "user_tz": -480
    },
    "id": "p2H23cAefCJu",
    "outputId": "2c5af055-8f09-4fd2-9d26-0d9e9d2b0834"
   },
   "outputs": [
    {
     "name": "stdout",
     "output_type": "stream",
     "text": [
      "Mounted at /content/drive\n"
     ]
    }
   ],
   "source": [
    "from google.colab import drive\n",
    "drive.mount('/content/drive')"
   ]
  },
  {
   "cell_type": "code",
   "execution_count": 2,
   "metadata": {
    "colab": {
     "base_uri": "https://localhost:8080/"
    },
    "executionInfo": {
     "elapsed": 1751,
     "status": "ok",
     "timestamp": 1681206339888,
     "user": {
      "displayName": "Yasinda Samaranayake",
      "userId": "17648743904073737948"
     },
     "user_tz": -480
    },
    "id": "krR2MNVQfGfs",
    "outputId": "fc88fe57-639e-45bb-a261-bfa7cfaca6f9"
   },
   "outputs": [
    {
     "name": "stdout",
     "output_type": "stream",
     "text": [
      "/content/drive/MyDrive/Colab Notebooks/DIA-CompanionChatbot/LogReg\n"
     ]
    }
   ],
   "source": [
    "%cd /content/drive/MyDrive/Colab Notebooks/DIA-CompanionChatbot/LogReg"
   ]
  },
  {
   "cell_type": "code",
   "execution_count": 3,
   "metadata": {
    "executionInfo": {
     "elapsed": 6425,
     "status": "ok",
     "timestamp": 1681206346310,
     "user": {
      "displayName": "Yasinda Samaranayake",
      "userId": "17648743904073737948"
     },
     "user_tz": -480
    },
    "id": "sGJ6pS8RezUj"
   },
   "outputs": [],
   "source": [
    "import pandas as pd\n",
    "import numpy as np\n",
    "from nltk.corpus import stopwords\n",
    "from textblob import Word\n",
    "import re\n",
    "\n",
    "from sklearn import preprocessing\n",
    "from sklearn.model_selection import train_test_split\n",
    "from sklearn.feature_extraction.text import TfidfVectorizer\n",
    "from sklearn.feature_extraction.text import CountVectorizer\n",
    "from sklearn.metrics import accuracy_score\n",
    "from sklearn.naive_bayes import MultinomialNB\n",
    "from sklearn.linear_model import SGDClassifier\n",
    "from sklearn.linear_model import LogisticRegression\n",
    "from sklearn.ensemble import RandomForestClassifier"
   ]
  },
  {
   "cell_type": "code",
   "execution_count": 4,
   "metadata": {
    "executionInfo": {
     "elapsed": 578,
     "status": "ok",
     "timestamp": 1681206346886,
     "user": {
      "displayName": "Yasinda Samaranayake",
      "userId": "17648743904073737948"
     },
     "user_tz": -480
    },
    "id": "5H1IMPETfQw3"
   },
   "outputs": [],
   "source": [
    "df = pd.read_csv('emotion_data.csv')\n",
    "# df = df.dropna(axis=0, subset=['Emotion'])"
   ]
  },
  {
   "cell_type": "code",
   "execution_count": 5,
   "metadata": {
    "executionInfo": {
     "elapsed": 3,
     "status": "ok",
     "timestamp": 1681206346886,
     "user": {
      "displayName": "Yasinda Samaranayake",
      "userId": "17648743904073737948"
     },
     "user_tz": -480
    },
    "id": "xJ2jc-y9gVL2"
   },
   "outputs": [],
   "source": [
    "df['Emotion'] = df['Emotion'].replace([0, 1, 2, 3, 4], ['Neutral', 'Happy', 'Sad', 'Love', 'Anger'])\n"
   ]
  },
  {
   "cell_type": "code",
   "execution_count": 6,
   "metadata": {
    "colab": {
     "base_uri": "https://localhost:8080/"
    },
    "executionInfo": {
     "elapsed": 3,
     "status": "ok",
     "timestamp": 1681206346886,
     "user": {
      "displayName": "Yasinda Samaranayake",
      "userId": "17648743904073737948"
     },
     "user_tz": -480
    },
    "id": "eDMWGUxohvKA",
    "outputId": "19c4e2da-1e65-42d1-d90c-1341efe4ac73"
   },
   "outputs": [
    {
     "data": {
      "text/plain": [
       "Sad        16251\n",
       "Happy      15444\n",
       "Neutral     9643\n",
       "Love        8248\n",
       "Anger       6188\n",
       "Name: Emotion, dtype: int64"
      ]
     },
     "execution_count": 6,
     "metadata": {},
     "output_type": "execute_result"
    }
   ],
   "source": [
    "df['Emotion'].value_counts()"
   ]
  },
  {
   "cell_type": "code",
   "execution_count": 7,
   "metadata": {
    "colab": {
     "base_uri": "https://localhost:8080/"
    },
    "executionInfo": {
     "elapsed": 700,
     "status": "ok",
     "timestamp": 1681206347584,
     "user": {
      "displayName": "Yasinda Samaranayake",
      "userId": "17648743904073737948"
     },
     "user_tz": -480
    },
    "id": "4KYPxd6dkD3c",
    "outputId": "2b09db1f-51ab-4b46-997d-3621c87c6740"
   },
   "outputs": [
    {
     "data": {
      "text/plain": [
       "Text       90\n",
       "Emotion     0\n",
       "dtype: int64"
      ]
     },
     "execution_count": 7,
     "metadata": {},
     "output_type": "execute_result"
    }
   ],
   "source": [
    "df.isna().sum()"
   ]
  },
  {
   "cell_type": "code",
   "execution_count": 8,
   "metadata": {
    "executionInfo": {
     "elapsed": 4,
     "status": "ok",
     "timestamp": 1681206347584,
     "user": {
      "displayName": "Yasinda Samaranayake",
      "userId": "17648743904073737948"
     },
     "user_tz": -480
    },
    "id": "mt092lALiNwT"
   },
   "outputs": [],
   "source": [
    "df = df.dropna()"
   ]
  },
  {
   "cell_type": "code",
   "execution_count": 9,
   "metadata": {
    "colab": {
     "base_uri": "https://localhost:8080/"
    },
    "executionInfo": {
     "elapsed": 3,
     "status": "ok",
     "timestamp": 1681206347584,
     "user": {
      "displayName": "Yasinda Samaranayake",
      "userId": "17648743904073737948"
     },
     "user_tz": -480
    },
    "id": "RGpc1pGDkqPj",
    "outputId": "f7c21457-c2a8-4d60-b84e-50ae25d1ef92"
   },
   "outputs": [
    {
     "name": "stderr",
     "output_type": "stream",
     "text": [
      "[nltk_data] Downloading package stopwords to /root/nltk_data...\n",
      "[nltk_data]   Unzipping corpora/stopwords.zip.\n",
      "[nltk_data] Downloading package wordnet to /root/nltk_data...\n"
     ]
    },
    {
     "data": {
      "text/plain": [
       "True"
      ]
     },
     "execution_count": 9,
     "metadata": {},
     "output_type": "execute_result"
    }
   ],
   "source": [
    "import nltk\n",
    "nltk.download('stopwords')\n",
    "nltk.download('wordnet')\n",
    "# stop = stopwords.words('english')"
   ]
  },
  {
   "cell_type": "code",
   "execution_count": 10,
   "metadata": {
    "executionInfo": {
     "elapsed": 948,
     "status": "ok",
     "timestamp": 1681206348530,
     "user": {
      "displayName": "Yasinda Samaranayake",
      "userId": "17648743904073737948"
     },
     "user_tz": -480
    },
    "id": "F8dUCYL2kYzu"
   },
   "outputs": [],
   "source": [
    "df['Text'] = df['Text'].apply(lambda x: \" \".join(x.lower() for x in x.split()))"
   ]
  },
  {
   "cell_type": "code",
   "execution_count": 11,
   "metadata": {
    "colab": {
     "base_uri": "https://localhost:8080/"
    },
    "executionInfo": {
     "elapsed": 32386,
     "status": "ok",
     "timestamp": 1681206380914,
     "user": {
      "displayName": "Yasinda Samaranayake",
      "userId": "17648743904073737948"
     },
     "user_tz": -480
    },
    "id": "KXYvIaaNkd9b",
    "outputId": "20b0832d-2885-4323-a6cc-ef22a16152a6"
   },
   "outputs": [
    {
     "name": "stderr",
     "output_type": "stream",
     "text": [
      "<ipython-input-11-670e811c4678>:2: FutureWarning: The default value of regex will change from True to False in a future version.\n",
      "  df['Text'] = df['Text'].str.replace('[^\\w\\s]',' ')\n"
     ]
    }
   ],
   "source": [
    "# Removing Punctuation, Symbols\n",
    "df['Text'] = df['Text'].str.replace('[^\\w\\s]',' ')\n",
    "\n",
    "# Removing Stop Words using NLTK\n",
    "stop = stopwords.words('english')\n",
    "df['Text']= df['Text'].apply(lambda x: \" \".join(x for x in x.split() if x not in stop))\n",
    "\n",
    "#Lemmatisation\n",
    "df['Text'] = df['Text'].apply(lambda x: \" \".join([Word(word).lemmatize() for word in x.split()]))\n",
    "#Correcting Letter Repetitions\n",
    "\n",
    "def de_repeat(text):\n",
    "    pattern = re.compile(r\"(.)\\1{2,}\")\n",
    "    return pattern.sub(r\"\\1\\1\", text)\n",
    "\n",
    "df['Text'] = df['Text'].apply(lambda x: \" \".join(de_repeat(x) for x in x.split()))\n",
    "\n",
    "# Code to find the top 10,000 rarest words appearing in the data\n",
    "freq = pd.Series(' '.join(df['Text']).split()).value_counts()[-2000:]\n",
    "\n",
    "# Removing all those rarely appearing words from the data\n",
    "freq = list(freq.index)\n",
    "df['Text'] = df['Text'].apply(lambda x: \" \".join(x for x in x.split() if x not in freq))"
   ]
  },
  {
   "cell_type": "code",
   "execution_count": 12,
   "metadata": {
    "executionInfo": {
     "elapsed": 13,
     "status": "ok",
     "timestamp": 1681206380914,
     "user": {
      "displayName": "Yasinda Samaranayake",
      "userId": "17648743904073737948"
     },
     "user_tz": -480
    },
    "id": "-sLVlkC5lEOE"
   },
   "outputs": [],
   "source": [
    "#Encoding output labels 'sadness' as '1' & 'happiness' as '0'\n",
    "lbl_enc = preprocessing.LabelEncoder()\n",
    "y = lbl_enc.fit_transform(df['Emotion'])"
   ]
  },
  {
   "cell_type": "code",
   "execution_count": 13,
   "metadata": {
    "executionInfo": {
     "elapsed": 13,
     "status": "ok",
     "timestamp": 1681206380915,
     "user": {
      "displayName": "Yasinda Samaranayake",
      "userId": "17648743904073737948"
     },
     "user_tz": -480
    },
    "id": "8bVIdyWwlaL1"
   },
   "outputs": [],
   "source": [
    "# Splitting into training and testing data in 90:10 ratio\n",
    "X_train, X_val, y_train, y_val = train_test_split(df['Text'], y, stratify=y, random_state=42, test_size=0.1, shuffle=True)\n"
   ]
  },
  {
   "cell_type": "code",
   "execution_count": 14,
   "metadata": {
    "executionInfo": {
     "elapsed": 1639,
     "status": "ok",
     "timestamp": 1681206382542,
     "user": {
      "displayName": "Yasinda Samaranayake",
      "userId": "17648743904073737948"
     },
     "user_tz": -480
    },
    "id": "j2bgVcBnldy6"
   },
   "outputs": [],
   "source": [
    "# Extracting Count Vectors Parameters\n",
    "count_vect = CountVectorizer(analyzer='word')\n",
    "count_vect.fit(df['Text'])\n",
    "X_train_count =  count_vect.transform(X_train)\n",
    "X_val_count =  count_vect.transform(X_val)"
   ]
  },
  {
   "cell_type": "code",
   "execution_count": 15,
   "metadata": {
    "colab": {
     "base_uri": "https://localhost:8080/"
    },
    "executionInfo": {
     "elapsed": 19911,
     "status": "ok",
     "timestamp": 1681206443817,
     "user": {
      "displayName": "Yasinda Samaranayake",
      "userId": "17648743904073737948"
     },
     "user_tz": -480
    },
    "id": "R6C9M3OtllTy",
    "outputId": "d0ed864f-02ed-48ff-a33f-0cfea8713297"
   },
   "outputs": [
    {
     "name": "stdout",
     "output_type": "stream",
     "text": [
      "log reg count vectors accuracy 0.5774824923684683\n"
     ]
    },
    {
     "name": "stderr",
     "output_type": "stream",
     "text": [
      "/usr/local/lib/python3.9/dist-packages/sklearn/linear_model/_logistic.py:458: ConvergenceWarning: lbfgs failed to converge (status=1):\n",
      "STOP: TOTAL NO. of ITERATIONS REACHED LIMIT.\n",
      "\n",
      "Increase the number of iterations (max_iter) or scale the data as shown in:\n",
      "    https://scikit-learn.org/stable/modules/preprocessing.html\n",
      "Please also refer to the documentation for alternative solver options:\n",
      "    https://scikit-learn.org/stable/modules/linear_model.html#logistic-regression\n",
      "  n_iter_i = _check_optimize_result(\n"
     ]
    }
   ],
   "source": [
    "# Model 3: Logistic Regression\n",
    "logreg = LogisticRegression(C=1, max_iter=100)\n",
    "logreg.fit(X_train_count, y_train)\n",
    "y_pred = logreg.predict(X_val_count)\n",
    "print('log reg count vectors accuracy %s' % accuracy_score(y_pred, y_val))"
   ]
  },
  {
   "cell_type": "code",
   "execution_count": 16,
   "metadata": {
    "executionInfo": {
     "elapsed": 2,
     "status": "ok",
     "timestamp": 1681206443817,
     "user": {
      "displayName": "Yasinda Samaranayake",
      "userId": "17648743904073737948"
     },
     "user_tz": -480
    },
    "id": "RSftPOBLmaUt"
   },
   "outputs": [],
   "source": [
    "import pickle"
   ]
  },
  {
   "cell_type": "code",
   "execution_count": 17,
   "metadata": {
    "executionInfo": {
     "elapsed": 412,
     "status": "ok",
     "timestamp": 1681206491138,
     "user": {
      "displayName": "Yasinda Samaranayake",
      "userId": "17648743904073737948"
     },
     "user_tz": -480
    },
    "id": "dVxqfYf3tleG"
   },
   "outputs": [],
   "source": [
    "with open(\"LogRegCountVectorizer\", 'wb') as fout:\n",
    "    pickle.dump((logreg, count_vect), fout)"
   ]
  },
  {
   "cell_type": "code",
   "execution_count": 21,
   "metadata": {
    "executionInfo": {
     "elapsed": 791,
     "status": "ok",
     "timestamp": 1681206611210,
     "user": {
      "displayName": "Yasinda Samaranayake",
      "userId": "17648743904073737948"
     },
     "user_tz": -480
    },
    "id": "DyhG3XMYt2DG"
   },
   "outputs": [],
   "source": [
    "with open('LogRegCountVectorizer', 'rb') as f:\n",
    "    logreg, vectorizer = pickle.load(f)"
   ]
  },
  {
   "cell_type": "code",
   "execution_count": 22,
   "metadata": {
    "executionInfo": {
     "elapsed": 372,
     "status": "ok",
     "timestamp": 1681206620629,
     "user": {
      "displayName": "Yasinda Samaranayake",
      "userId": "17648743904073737948"
     },
     "user_tz": -480
    },
    "id": "BqYyWKWMm087"
   },
   "outputs": [],
   "source": [
    "to_test = \"Success is right around the corner. Lets celebrate this victory\""
   ]
  },
  {
   "cell_type": "code",
   "execution_count": 23,
   "metadata": {
    "executionInfo": {
     "elapsed": 630,
     "status": "ok",
     "timestamp": 1681206622382,
     "user": {
      "displayName": "Yasinda Samaranayake",
      "userId": "17648743904073737948"
     },
     "user_tz": -480
    },
    "id": "f3CAQlN9t-Od"
   },
   "outputs": [],
   "source": [
    "to_test = to_test.replace('[^\\w\\s]',' ')\n",
    "to_test = ' '.join([word for word in to_test.split() if word not in stop])\n",
    "to_test = \" \".join([Word(word).lemmatize() for word in to_test.split()])"
   ]
  },
  {
   "cell_type": "code",
   "execution_count": 24,
   "metadata": {
    "executionInfo": {
     "elapsed": 443,
     "status": "ok",
     "timestamp": 1681206630535,
     "user": {
      "displayName": "Yasinda Samaranayake",
      "userId": "17648743904073737948"
     },
     "user_tz": -480
    },
    "id": "rh7NQjAeuAKy"
   },
   "outputs": [],
   "source": [
    "# Extracting Count Vectors feature from our tweets\n",
    "tweet_count = vectorizer.transform([to_test])"
   ]
  },
  {
   "cell_type": "code",
   "execution_count": 25,
   "metadata": {
    "colab": {
     "base_uri": "https://localhost:8080/"
    },
    "executionInfo": {
     "elapsed": 2,
     "status": "ok",
     "timestamp": 1681206645180,
     "user": {
      "displayName": "Yasinda Samaranayake",
      "userId": "17648743904073737948"
     },
     "user_tz": -480
    },
    "id": "mC3sfz4wuWef",
    "outputId": "2d39d54b-e050-46a9-a412-3cf745185098"
   },
   "outputs": [
    {
     "data": {
      "text/plain": [
       "<1x30685 sparse matrix of type '<class 'numpy.int64'>'\n",
       "\twith 6 stored elements in Compressed Sparse Row format>"
      ]
     },
     "execution_count": 25,
     "metadata": {},
     "output_type": "execute_result"
    }
   ],
   "source": [
    "tweet_count"
   ]
  },
  {
   "cell_type": "code",
   "execution_count": 27,
   "metadata": {
    "colab": {
     "base_uri": "https://localhost:8080/"
    },
    "executionInfo": {
     "elapsed": 2,
     "status": "ok",
     "timestamp": 1681206684303,
     "user": {
      "displayName": "Yasinda Samaranayake",
      "userId": "17648743904073737948"
     },
     "user_tz": -480
    },
    "id": "Diqrwud3uWaJ",
    "outputId": "dd91bbaa-8f0b-458f-ad8e-9205fa4e3314"
   },
   "outputs": [
    {
     "data": {
      "text/plain": [
       "array([[0.00309495, 0.8229987 , 0.10671381, 0.04848172, 0.01871082]])"
      ]
     },
     "execution_count": 27,
     "metadata": {},
     "output_type": "execute_result"
    }
   ],
   "source": [
    "logreg.predict_proba(tweet_count)"
   ]
  },
  {
   "cell_type": "code",
   "execution_count": null,
   "metadata": {
    "colab": {
     "base_uri": "https://localhost:8080/"
    },
    "executionInfo": {
     "elapsed": 3,
     "status": "ok",
     "timestamp": 1679984382645,
     "user": {
      "displayName": "Yasinda Samaranayake",
      "userId": "17648743904073737948"
     },
     "user_tz": -480
    },
    "id": "dUSGbGwy3q1b",
    "outputId": "c2880461-69ba-4f15-a273-962d4e6c9c51"
   },
   "outputs": [
    {
     "name": "stdout",
     "output_type": "stream",
     "text": [
      "0        Sad\n",
      "1       Love\n",
      "2      Happy\n",
      "3    Neutral\n",
      "4      Anger\n",
      "5       Love\n",
      "Name: Emotion, dtype: object\n",
      "[4 2 1 3 0 2]\n"
     ]
    }
   ],
   "source": [
    "print(df['Emotion'][:6])\n",
    "print(y[:6])"
   ]
  },
  {
   "cell_type": "code",
   "execution_count": null,
   "metadata": {
    "id": "jWhrvcTE32TY"
   },
   "outputs": [],
   "source": [
    "#0 - Anger, 1 - Happy, 2 - Love, 3 - Neutral, 4 - Sad"
   ]
  },
  {
   "cell_type": "code",
   "execution_count": null,
   "metadata": {
    "colab": {
     "base_uri": "https://localhost:8080/"
    },
    "executionInfo": {
     "elapsed": 369,
     "status": "ok",
     "timestamp": 1679984174635,
     "user": {
      "displayName": "Yasinda Samaranayake",
      "userId": "17648743904073737948"
     },
     "user_tz": -480
    },
    "id": "OZwH4WYom7iu",
    "outputId": "4308e2c0-9149-4f01-fea8-ac601e763f92"
   },
   "outputs": [
    {
     "name": "stderr",
     "output_type": "stream",
     "text": [
      "<ipython-input-21-388b6c726e2c>:2: FutureWarning: The default value of regex will change from True to False in a future version.\n",
      "  tweets[0] = tweets[0].str.replace('[^\\w\\s]',' ')\n"
     ]
    }
   ],
   "source": [
    "# Doing some preprocessing on these tweets as done before\n",
    "tweets[0] = tweets[0].str.replace('[^\\w\\s]',' ')\n",
    "from nltk.corpus import stopwords\n",
    "stop = stopwords.words('english')\n",
    "tweets[0] = tweets[0].apply(lambda x: \" \".join(x for x in x.split() if x not in stop))\n",
    "from textblob import Word\n",
    "tweets[0] = tweets[0].apply(lambda x: \" \".join([Word(word).lemmatize() for word in x.split()]))\n",
    "\n",
    "# Extracting Count Vectors feature from our tweets\n",
    "tweet_count = count_vect.transform(tweets[0])"
   ]
  },
  {
   "cell_type": "code",
   "execution_count": null,
   "metadata": {
    "colab": {
     "base_uri": "https://localhost:8080/"
    },
    "executionInfo": {
     "elapsed": 680,
     "status": "ok",
     "timestamp": 1679984178015,
     "user": {
      "displayName": "Yasinda Samaranayake",
      "userId": "17648743904073737948"
     },
     "user_tz": -480
    },
    "id": "74KqkMX-m-mi",
    "outputId": "925a2512-59e8-4590-8002-f3081680ddfa"
   },
   "outputs": [
    {
     "data": {
      "text/plain": [
       "array([1, 1, 1, 1, 4, 4, 4, 4])"
      ]
     },
     "execution_count": 22,
     "metadata": {},
     "output_type": "execute_result"
    }
   ],
   "source": [
    "load.predict(tweet_count)"
   ]
  },
  {
   "cell_type": "code",
   "execution_count": 1,
   "metadata": {
    "id": "QDT1iwL7nC2v"
   },
   "outputs": [],
   "source": [
    "#Testing the model on 50, handpicked messages"
   ]
  },
  {
   "cell_type": "code",
   "execution_count": 2,
   "metadata": {},
   "outputs": [
    {
     "name": "stderr",
     "output_type": "stream",
     "text": [
      "[nltk_data] Downloading package stopwords to\n",
      "[nltk_data]     C:\\Users\\94773\\AppData\\Roaming\\nltk_data...\n",
      "[nltk_data]   Package stopwords is already up-to-date!\n",
      "[nltk_data] Downloading package wordnet to\n",
      "[nltk_data]     C:\\Users\\94773\\AppData\\Roaming\\nltk_data...\n",
      "[nltk_data]   Package wordnet is already up-to-date!\n"
     ]
    }
   ],
   "source": [
    "import pickle\n",
    "import nltk\n",
    "nltk.download('stopwords')\n",
    "nltk.download('wordnet')\n",
    "\n",
    "from nltk.corpus import stopwords\n",
    "from textblob import Word\n",
    "\n",
    "stop = stopwords.words('english')"
   ]
  },
  {
   "cell_type": "code",
   "execution_count": 3,
   "metadata": {},
   "outputs": [],
   "source": [
    "with open('LogRegCountVectorizer', 'rb') as f:\n",
    "    logreg, vectorizer = pickle.load(f)"
   ]
  },
  {
   "cell_type": "code",
   "execution_count": 4,
   "metadata": {},
   "outputs": [],
   "source": [
    "import pandas as pd\n",
    "\n",
    "df = pd.read_csv(\"Handpicked.csv\")"
   ]
  },
  {
   "cell_type": "code",
   "execution_count": 5,
   "metadata": {},
   "outputs": [],
   "source": [
    "#0 - Anger, 1 - Happy, 2 - Love, 3 - Neutral, 4 - Sad"
   ]
  },
  {
   "cell_type": "code",
   "execution_count": 6,
   "metadata": {},
   "outputs": [
    {
     "data": {
      "text/html": [
       "<div>\n",
       "<style scoped>\n",
       "    .dataframe tbody tr th:only-of-type {\n",
       "        vertical-align: middle;\n",
       "    }\n",
       "\n",
       "    .dataframe tbody tr th {\n",
       "        vertical-align: top;\n",
       "    }\n",
       "\n",
       "    .dataframe thead th {\n",
       "        text-align: right;\n",
       "    }\n",
       "</style>\n",
       "<table border=\"1\" class=\"dataframe\">\n",
       "  <thead>\n",
       "    <tr style=\"text-align: right;\">\n",
       "      <th></th>\n",
       "      <th>Text</th>\n",
       "      <th>Emotion</th>\n",
       "      <th>EmotionSVMLOGREG</th>\n",
       "    </tr>\n",
       "  </thead>\n",
       "  <tbody>\n",
       "    <tr>\n",
       "      <th>0</th>\n",
       "      <td>I don't feel like doing anything today, everyt...</td>\n",
       "      <td>sad</td>\n",
       "      <td>4</td>\n",
       "    </tr>\n",
       "    <tr>\n",
       "      <th>1</th>\n",
       "      <td>I just found out my grandmother passed away an...</td>\n",
       "      <td>sad</td>\n",
       "      <td>4</td>\n",
       "    </tr>\n",
       "    <tr>\n",
       "      <th>2</th>\n",
       "      <td>I feel so alone and isolated, like no one unde...</td>\n",
       "      <td>sad</td>\n",
       "      <td>4</td>\n",
       "    </tr>\n",
       "    <tr>\n",
       "      <th>3</th>\n",
       "      <td>I can't believe I lost my job, how am I going ...</td>\n",
       "      <td>sad</td>\n",
       "      <td>4</td>\n",
       "    </tr>\n",
       "    <tr>\n",
       "      <th>4</th>\n",
       "      <td>I miss my ex so much, it's hard to move on.</td>\n",
       "      <td>sad</td>\n",
       "      <td>4</td>\n",
       "    </tr>\n",
       "  </tbody>\n",
       "</table>\n",
       "</div>"
      ],
      "text/plain": [
       "                                                Text Emotion  EmotionSVMLOGREG\n",
       "0  I don't feel like doing anything today, everyt...     sad                 4\n",
       "1  I just found out my grandmother passed away an...     sad                 4\n",
       "2  I feel so alone and isolated, like no one unde...     sad                 4\n",
       "3  I can't believe I lost my job, how am I going ...     sad                 4\n",
       "4        I miss my ex so much, it's hard to move on.     sad                 4"
      ]
     },
     "execution_count": 6,
     "metadata": {},
     "output_type": "execute_result"
    }
   ],
   "source": [
    "df.head()"
   ]
  },
  {
   "cell_type": "code",
   "execution_count": 7,
   "metadata": {},
   "outputs": [],
   "source": [
    "actual_emotion = df['EmotionSVMLOGREG']"
   ]
  },
  {
   "cell_type": "code",
   "execution_count": 8,
   "metadata": {},
   "outputs": [],
   "source": [
    "to_test = df['Text']"
   ]
  },
  {
   "cell_type": "code",
   "execution_count": 9,
   "metadata": {},
   "outputs": [
    {
     "data": {
      "text/plain": [
       "50"
      ]
     },
     "execution_count": 9,
     "metadata": {},
     "output_type": "execute_result"
    }
   ],
   "source": [
    "len(to_test)"
   ]
  },
  {
   "cell_type": "code",
   "execution_count": 10,
   "metadata": {},
   "outputs": [],
   "source": [
    "def toCountVectors(text):\n",
    "    text = text.replace('[^\\w\\s]',' ')\n",
    "    text = ' '.join([word for word in text.split() if word not in stop])\n",
    "    text = \" \".join([Word(word).lemmatize() for word in text.split()])\n",
    "    print(text)\n",
    "#     tweet_count = vectorizer.transform([text])\n",
    "    return text"
   ]
  },
  {
   "cell_type": "code",
   "execution_count": 11,
   "metadata": {},
   "outputs": [
    {
     "name": "stdout",
     "output_type": "stream",
     "text": [
      "I feel like anything today, everything seems pointless.\n",
      "I found grandmother passed away I can't stop crying.\n",
      "I feel alone isolated, like one understands me.\n",
      "I can't believe I lost job, I going pay bills?\n",
      "I miss ex much, hard move on.\n",
      "I'm struggling depression hard find motivation get bed.\n",
      "I feel like I'm constantly disappointing everyone around me.\n",
      "I received bad news doctor I'm feeling really down.\n",
      "I'm heartbroken, pet passed away.\n",
      "I feel like I'm stuck rut I know break free.\n",
      "I can't believe me, I'm furious!\n",
      "I'm sick tired dealing nonsense, I'm snap.\n",
      "Why everything difficult? I'm getting really angry.\n",
      "I feel disrespected undervalued, making angry.\n",
      "I can't stand unfair situation is, making really angry.\n",
      "I'm angry letting thing get far.\n",
      "I'm lose temper keep happening.\n",
      "I can't believe audacity say me, I'm angry.\n",
      "I'm frustrated situation, making see red.\n",
      "I'm going stand anymore, I'm feeling really angry fed up.\n",
      "I'm looking forward trying new restaurant town.\n",
      "I meeting 2 pm tomorrow, I need finish work then.\n",
      "The weather today sunny high 75 degrees.\n",
      "I'm currently reading book World War II.\n",
      "I need go grocery shopping laundry weekend.\n",
      "I'm thinking going vacation next month, I decided yet.\n",
      "I'm enjoying cup coffee I catch work.\n",
      "My favorite color blue, what's yours?\n",
      "I'm learning play guitar free time.\n",
      "I'm planning go run work clear mind.\n",
      "I love spending time mother\n",
      "You make day brighter I love much\n",
      "I think I met soulmate\n",
      "I head heel current partner\n",
      "I love family much\n",
      "OMG I LOVE STEPH CURRY\n",
      "There's nothing I wont love life\n",
      "I love around other, complete me.\n",
      "I appreciate everything me, I love every day.\n",
      "I can't imagine life without you, mean everything me.\n",
      "I'm happy I got job I wanted!\n",
      "Today beautiful day, I feel happy alive.\n",
      "I'm thrilled going vacation next week!\n",
      "I found I'm going parent, I'm overjoyed!\n",
      "I'm grateful family friends, make incredibly happy.\n",
      "I'm feeling happy content right now, life good.\n",
      "I love spending time thing make happy, like reading going walks.\n",
      "I'm really proud accomplishing goals, make happy see hard work pay off.\n",
      "I love waking early weekend enjoying quiet morning cup coffee, make happy.\n",
      "I'm happy surrounded positivity good vibes, make life much better.\n"
     ]
    }
   ],
   "source": [
    "inputData = []\n",
    "\n",
    "for i in range(len(to_test)):\n",
    "    CV = toCountVectors(to_test[i])\n",
    "    inputData.append(CV)"
   ]
  },
  {
   "cell_type": "code",
   "execution_count": 12,
   "metadata": {},
   "outputs": [
    {
     "data": {
      "text/plain": [
       "50"
      ]
     },
     "execution_count": 12,
     "metadata": {},
     "output_type": "execute_result"
    }
   ],
   "source": [
    "len(inputData)"
   ]
  },
  {
   "cell_type": "code",
   "execution_count": 13,
   "metadata": {},
   "outputs": [],
   "source": [
    "countVectorizers = vectorizer.transform(inputData)"
   ]
  },
  {
   "cell_type": "code",
   "execution_count": 16,
   "metadata": {},
   "outputs": [],
   "source": [
    "pred = logreg.predict(countVectorizers)"
   ]
  },
  {
   "cell_type": "code",
   "execution_count": 17,
   "metadata": {},
   "outputs": [
    {
     "data": {
      "text/plain": [
       "array([4, 3, 4, 4, 4, 4, 4, 4, 4, 4, 4, 4, 0, 0, 0, 0, 4, 0, 4, 0, 4, 4,\n",
       "       1, 4, 4, 1, 2, 1, 3, 4, 2, 2, 3, 3, 2, 1, 4, 2, 2, 4, 1, 2, 1, 1,\n",
       "       2, 1, 2, 1, 2, 1], dtype=int64)"
      ]
     },
     "execution_count": 17,
     "metadata": {},
     "output_type": "execute_result"
    }
   ],
   "source": [
    "#0 - Anger, 1 - Happy, 2 - Love, 3 - Neutral, 4 - Sad\n",
    "pred"
   ]
  },
  {
   "cell_type": "code",
   "execution_count": 18,
   "metadata": {},
   "outputs": [],
   "source": [
    "from sklearn.metrics import classification_report\n",
    "import seaborn as sn\n",
    "from sklearn.metrics import confusion_matrix\n",
    "import matplotlib.pyplot as plt\n",
    "import numpy\n",
    "from sklearn import metrics"
   ]
  },
  {
   "cell_type": "code",
   "execution_count": 19,
   "metadata": {},
   "outputs": [
    {
     "name": "stdout",
     "output_type": "stream",
     "text": [
      "              precision    recall  f1-score   support\n",
      "\n",
      "           0       1.00      0.60      0.75        10\n",
      "           1       0.60      0.60      0.60        10\n",
      "           2       0.50      0.50      0.50        10\n",
      "           3       0.25      0.10      0.14        10\n",
      "           4       0.45      0.90      0.60        10\n",
      "\n",
      "    accuracy                           0.54        50\n",
      "   macro avg       0.56      0.54      0.52        50\n",
      "weighted avg       0.56      0.54      0.52        50\n",
      "\n"
     ]
    }
   ],
   "source": [
    "print(classification_report(actual_emotion, pred))"
   ]
  },
  {
   "cell_type": "code",
   "execution_count": 20,
   "metadata": {},
   "outputs": [],
   "source": [
    "x = confusion_matrix(actual_emotion, pred)"
   ]
  },
  {
   "cell_type": "code",
   "execution_count": 21,
   "metadata": {},
   "outputs": [],
   "source": [
    "classes = [\"Anger\", \"Happy\", \"Love\", \"Neutral\", \"Sad\"]"
   ]
  },
  {
   "cell_type": "code",
   "execution_count": 22,
   "metadata": {},
   "outputs": [
    {
     "data": {
      "text/plain": [
       "<AxesSubplot:>"
      ]
     },
     "execution_count": 22,
     "metadata": {},
     "output_type": "execute_result"
    },
    {
     "data": {
      "image/png": "[encoded data removed]",
      "text/plain": [
       "<Figure size 1080x720 with 2 Axes>"
      ]
     },
     "metadata": {
      "needs_background": "light"
     },
     "output_type": "display_data"
    }
   ],
   "source": [
    "df_cm = pd.DataFrame(x, index = [i for i in classes],\n",
    "                  columns = [i for i in classes])\n",
    "plt.figure(figsize = (15,10))\n",
    "\n",
    "sn.heatmap(df_cm, annot=True)"
   ]
  },
  {
   "cell_type": "code",
   "execution_count": 1,
   "metadata": {},
   "outputs": [],
   "source": [
    "#Testing the model on 8 different messages"
   ]
  },
  {
   "cell_type": "code",
   "execution_count": 14,
   "metadata": {},
   "outputs": [
    {
     "name": "stderr",
     "output_type": "stream",
     "text": [
      "[nltk_data] Downloading package stopwords to\n",
      "[nltk_data]     C:\\Users\\94773\\AppData\\Roaming\\nltk_data...\n",
      "[nltk_data]   Package stopwords is already up-to-date!\n",
      "[nltk_data] Downloading package wordnet to\n",
      "[nltk_data]     C:\\Users\\94773\\AppData\\Roaming\\nltk_data...\n",
      "[nltk_data]   Package wordnet is already up-to-date!\n"
     ]
    }
   ],
   "source": [
    "import pickle\n",
    "import nltk\n",
    "nltk.download('stopwords')\n",
    "nltk.download('wordnet')\n",
    "\n",
    "from nltk.corpus import stopwords\n",
    "from textblob import Word\n",
    "\n",
    "stop = stopwords.words('english')"
   ]
  },
  {
   "cell_type": "code",
   "execution_count": 15,
   "metadata": {},
   "outputs": [],
   "source": [
    "with open('LogRegCountVectorizer2.0', 'rb') as f:\n",
    "    logreg, vectorizer = pickle.load(f)"
   ]
  },
  {
   "cell_type": "code",
   "execution_count": 30,
   "metadata": {},
   "outputs": [],
   "source": [
    "text = \"im happy to meet my parents soon!\"\n",
    "text = text.replace('[^\\w\\s]',' ')\n",
    "text = ' '.join([word for word in text.split() if word not in stop])\n",
    "text = \" \".join([Word(word).lemmatize() for word in text.split()])\n",
    "# print(text)\n",
    "countVectorizers = vectorizer.transform([text])\n",
    "pred = logreg.predict_proba(countVectorizers)\n",
    "#0 - Anger, 1 - Happy, 2 - Love, 3 - Neutral, 4 - Sad"
   ]
  },
  {
   "cell_type": "code",
   "execution_count": 31,
   "metadata": {},
   "outputs": [
    {
     "name": "stdout",
     "output_type": "stream",
     "text": [
      "[[0.0175841  0.35915987 0.30595398 0.15313964 0.16416241]]\n"
     ]
    }
   ],
   "source": [
    "print(pred)"
   ]
  },
  {
   "cell_type": "code",
   "execution_count": null,
   "metadata": {},
   "outputs": [],
   "source": []
  }
 ],
 "metadata": {
  "colab": {
   "authorship_tag": "ABX9TyN5gvVUb1Ymm5HsrMs2Pd3E",
   "provenance": []
  },
  "kernelspec": {
   "display_name": "Python 3 (ipykernel)",
   "language": "python",
   "name": "python3"
  },
  "language_info": {
   "codemirror_mode": {
    "name": "ipython",
    "version": 3
   },
   "file_extension": ".py",
   "mimetype": "text/x-python",
   "name": "python",
   "nbconvert_exporter": "python",
   "pygments_lexer": "ipython3",
   "version": "3.9.12"
  }
 },
 "nbformat": 4,
 "nbformat_minor": 1
}
