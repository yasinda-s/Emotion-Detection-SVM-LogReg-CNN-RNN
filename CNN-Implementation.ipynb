{
 "cells": [
  {
   "cell_type": "code",
   "execution_count": 1,
   "id": "6eae8cb0",
   "metadata": {},
   "outputs": [],
   "source": [
    "# import necessary libraries\n",
    "import pickle\n",
    "import json\n",
    "import random\n",
    "import os.path\n",
    "\n",
    "from keras.models import load_model\n",
    "from keras.preprocessing.sequence import pad_sequences"
   ]
  },
  {
   "cell_type": "code",
   "execution_count": 2,
   "id": "9561ae56",
   "metadata": {},
   "outputs": [
    {
     "name": "stderr",
     "output_type": "stream",
     "text": [
      "[nltk_data] Downloading package stopwords to\n",
      "[nltk_data]     C:\\Users\\94773\\AppData\\Roaming\\nltk_data...\n",
      "[nltk_data]   Package stopwords is already up-to-date!\n"
     ]
    },
    {
     "data": {
      "text/plain": [
       "True"
      ]
     },
     "execution_count": 2,
     "metadata": {},
     "output_type": "execute_result"
    }
   ],
   "source": [
    "import nltk\n",
    "from nltk.corpus import stopwords\n",
    "from textblob import Word\n",
    "nltk.download('stopwords')"
   ]
  },
  {
   "cell_type": "code",
   "execution_count": 3,
   "id": "6bf5afde",
   "metadata": {},
   "outputs": [],
   "source": [
    "# tokenizer object loaded to map texts into sequences\n",
    "with open('tokenizer.pickle', 'rb') as handle:\n",
    "    tokenizer = pickle.load(handle)"
   ]
  },
  {
   "cell_type": "code",
   "execution_count": 4,
   "id": "c41f7e56",
   "metadata": {},
   "outputs": [],
   "source": [
    "classes = [\"neutral\", \"happy\", \"sad\", \"love\", \"anger\"]\n",
    "\n",
    "# load trained model\n",
    "model = load_model(\"BESTCNNWeightsNLTP.h5\")"
   ]
  },
  {
   "cell_type": "code",
   "execution_count": 5,
   "id": "6afc5a31",
   "metadata": {},
   "outputs": [],
   "source": [
    "to_test = \"so happy\""
   ]
  },
  {
   "cell_type": "code",
   "execution_count": 6,
   "id": "76d49b52",
   "metadata": {},
   "outputs": [],
   "source": [
    "stop = stopwords.words('english')\n",
    "\n",
    "to_test = to_test.replace('[^\\w\\s]',' ')\n",
    "\n",
    "to_test = ' '.join([word for word in to_test.split() if word not in stop])\n",
    "\n",
    "to_test = \" \".join([Word(word).lemmatize() for word in to_test.split()])"
   ]
  },
  {
   "cell_type": "code",
   "execution_count": 7,
   "id": "e0b52284",
   "metadata": {},
   "outputs": [
    {
     "name": "stdout",
     "output_type": "stream",
     "text": [
      "happy\n"
     ]
    }
   ],
   "source": [
    "print(to_test)"
   ]
  },
  {
   "cell_type": "code",
   "execution_count": 8,
   "id": "c44eb3d6",
   "metadata": {},
   "outputs": [],
   "source": [
    "to_test = [to_test]"
   ]
  },
  {
   "cell_type": "code",
   "execution_count": 9,
   "id": "88f2a32d",
   "metadata": {},
   "outputs": [],
   "source": [
    "MAX_SEQUENCE_LENGTH = 30 # max length of text (words) including padding\n",
    "from keras.preprocessing.text import Tokenizer\n",
    "from keras_preprocessing.sequence import pad_sequences\n",
    "\n",
    "sequences_test = tokenizer.texts_to_sequences(to_test)\n",
    "data_int_t = pad_sequences(sequences_test, padding='pre', maxlen=(MAX_SEQUENCE_LENGTH-5))\n",
    "data_test = pad_sequences(data_int_t, padding='post', maxlen=(MAX_SEQUENCE_LENGTH))\n"
   ]
  },
  {
   "cell_type": "code",
   "execution_count": null,
   "id": "e54ba952",
   "metadata": {},
   "outputs": [],
   "source": [
    "y_prob = model.predict(data_test)"
   ]
  },
  {
   "cell_type": "code",
   "execution_count": 16,
   "id": "8ed98ce5",
   "metadata": {},
   "outputs": [],
   "source": [
    "pred_scores = y_prob[0]"
   ]
  },
  {
   "cell_type": "code",
   "execution_count": 20,
   "id": "7b00705e",
   "metadata": {},
   "outputs": [
    {
     "data": {
      "text/plain": [
       "array([0.34639525, 0.40660602, 0.0880124 , 0.15566762, 0.00331875],\n",
       "      dtype=float32)"
      ]
     },
     "execution_count": 20,
     "metadata": {},
     "output_type": "execute_result"
    }
   ],
   "source": [
    "pred_scores"
   ]
  },
  {
   "cell_type": "code",
   "execution_count": 19,
   "id": "519c7287",
   "metadata": {},
   "outputs": [
    {
     "data": {
      "text/plain": [
       "0.088012405"
      ]
     },
     "execution_count": 19,
     "metadata": {},
     "output_type": "execute_result"
    }
   ],
   "source": [
    "pred_scores[2]"
   ]
  },
  {
   "cell_type": "code",
   "execution_count": 11,
   "id": "4439dff3",
   "metadata": {},
   "outputs": [],
   "source": [
    "for n, prediction in enumerate(y_prob):\n",
    "        pred_index = y_prob.argmax(axis=-1)[n]"
   ]
  },
  {
   "cell_type": "code",
   "execution_count": 12,
   "id": "7c61339d",
   "metadata": {},
   "outputs": [
    {
     "data": {
      "text/plain": [
       "1"
      ]
     },
     "execution_count": 12,
     "metadata": {},
     "output_type": "execute_result"
    }
   ],
   "source": [
    "pred_index"
   ]
  },
  {
   "cell_type": "code",
   "execution_count": 5,
   "id": "70f175f3",
   "metadata": {},
   "outputs": [],
   "source": [
    "#Testing the model on 50, handpicked messages"
   ]
  },
  {
   "cell_type": "code",
   "execution_count": 6,
   "id": "bb33dbae",
   "metadata": {},
   "outputs": [],
   "source": [
    "classes = [\"neutral\", \"happy\", \"sad\", \"love\", \"anger\"]\n",
    "\n",
    "# load trained model\n",
    "model = load_model(\"BESTCNNWeightsNLTP.h5\")"
   ]
  },
  {
   "cell_type": "code",
   "execution_count": 7,
   "id": "e2954bae",
   "metadata": {},
   "outputs": [],
   "source": [
    "import pandas as pd\n",
    "\n",
    "df = pd.read_csv(\"Handpicked.csv\")"
   ]
  },
  {
   "cell_type": "code",
   "execution_count": 8,
   "id": "d0d5875a",
   "metadata": {},
   "outputs": [
    {
     "data": {
      "text/html": [
       "<div>\n",
       "<style scoped>\n",
       "    .dataframe tbody tr th:only-of-type {\n",
       "        vertical-align: middle;\n",
       "    }\n",
       "\n",
       "    .dataframe tbody tr th {\n",
       "        vertical-align: top;\n",
       "    }\n",
       "\n",
       "    .dataframe thead th {\n",
       "        text-align: right;\n",
       "    }\n",
       "</style>\n",
       "<table border=\"1\" class=\"dataframe\">\n",
       "  <thead>\n",
       "    <tr style=\"text-align: right;\">\n",
       "      <th></th>\n",
       "      <th>Text</th>\n",
       "      <th>Emotion</th>\n",
       "      <th>EmotionSVMLOGREG</th>\n",
       "      <th>EmotionsCNN</th>\n",
       "    </tr>\n",
       "  </thead>\n",
       "  <tbody>\n",
       "    <tr>\n",
       "      <th>0</th>\n",
       "      <td>I don't feel like doing anything today, everyt...</td>\n",
       "      <td>sad</td>\n",
       "      <td>4</td>\n",
       "      <td>2</td>\n",
       "    </tr>\n",
       "    <tr>\n",
       "      <th>1</th>\n",
       "      <td>I just found out my grandmother passed away an...</td>\n",
       "      <td>sad</td>\n",
       "      <td>4</td>\n",
       "      <td>2</td>\n",
       "    </tr>\n",
       "    <tr>\n",
       "      <th>2</th>\n",
       "      <td>I feel so alone and isolated, like no one unde...</td>\n",
       "      <td>sad</td>\n",
       "      <td>4</td>\n",
       "      <td>2</td>\n",
       "    </tr>\n",
       "    <tr>\n",
       "      <th>3</th>\n",
       "      <td>I can't believe I lost my job, how am I going ...</td>\n",
       "      <td>sad</td>\n",
       "      <td>4</td>\n",
       "      <td>2</td>\n",
       "    </tr>\n",
       "    <tr>\n",
       "      <th>4</th>\n",
       "      <td>I miss my ex so much, it's hard to move on.</td>\n",
       "      <td>sad</td>\n",
       "      <td>4</td>\n",
       "      <td>2</td>\n",
       "    </tr>\n",
       "  </tbody>\n",
       "</table>\n",
       "</div>"
      ],
      "text/plain": [
       "                                                Text Emotion  \\\n",
       "0  I don't feel like doing anything today, everyt...     sad   \n",
       "1  I just found out my grandmother passed away an...     sad   \n",
       "2  I feel so alone and isolated, like no one unde...     sad   \n",
       "3  I can't believe I lost my job, how am I going ...     sad   \n",
       "4        I miss my ex so much, it's hard to move on.     sad   \n",
       "\n",
       "   EmotionSVMLOGREG  EmotionsCNN  \n",
       "0                 4            2  \n",
       "1                 4            2  \n",
       "2                 4            2  \n",
       "3                 4            2  \n",
       "4                 4            2  "
      ]
     },
     "execution_count": 8,
     "metadata": {},
     "output_type": "execute_result"
    }
   ],
   "source": [
    "df.head()"
   ]
  },
  {
   "cell_type": "code",
   "execution_count": 9,
   "id": "ab2c39e5",
   "metadata": {},
   "outputs": [],
   "source": [
    "actual_emotion = df['EmotionsCNN']"
   ]
  },
  {
   "cell_type": "code",
   "execution_count": 17,
   "id": "cc0d8394",
   "metadata": {},
   "outputs": [],
   "source": [
    "to_test = df['Text']"
   ]
  },
  {
   "cell_type": "code",
   "execution_count": 20,
   "id": "2ce942a3",
   "metadata": {},
   "outputs": [],
   "source": [
    "new_list = []\n",
    "for i in range(len(to_test)):\n",
    "    new_list.append(list(to_test[i]))"
   ]
  },
  {
   "cell_type": "code",
   "execution_count": 21,
   "id": "32639467",
   "metadata": {},
   "outputs": [
    {
     "data": {
      "text/plain": [
       "[[\"I don't feel like doing anything today, everything seems pointless.\"],\n",
       " [\"I just found out my grandmother passed away and I can't stop crying.\"],\n",
       " ['I feel so alone and isolated, like no one understands me.'],\n",
       " [\"I can't believe I lost my job, how am I going to pay my bills?\"],\n",
       " [\"I miss my ex so much, it's hard to move on.\"],\n",
       " [\" I'm struggling with depression and it's hard to find motivation to get out of bed.\"],\n",
       " [\"I feel like I'm constantly disappointing everyone around me.\"],\n",
       " [\"I received some bad news from the doctor and I'm feeling really down.\"],\n",
       " [\"I'm so heartbroken, my pet just passed away.\"],\n",
       " [\"I feel like I'm stuck in a rut and I don't know how to break free.\"],\n",
       " [\"I can't believe they did that to me, I'm so furious!\"],\n",
       " [\"I'm sick and tired of dealing with this nonsense, I'm about to snap.\"],\n",
       " [\"Why does everything have to be so difficult? I'm getting really angry.\"],\n",
       " [\"I feel so disrespected and undervalued, it's making me angry.\"],\n",
       " [\"I can't stand how unfair this situation is, it's making me really angry.\"],\n",
       " [\"I'm so angry at myself for letting things get this far.\"],\n",
       " [\"I'm about to lose my temper if this keeps happening.\"],\n",
       " [\"I can't believe they had the audacity to say that to me, I'm so angry.\"],\n",
       " [\"I'm so frustrated with this situation, it's making me see red.\"],\n",
       " [\"I'm not going to stand for this anymore, I'm feeling really angry and fed up.\"],\n",
       " [\"I'm looking forward to trying out that new restaurant in town.\"],\n",
       " ['I have a meeting at 2 pm tomorrow, so I need to finish my work before then.'],\n",
       " ['The weather today is sunny with a high of 75 degrees.'],\n",
       " [\"I'm currently reading a book about World War II.\"],\n",
       " ['I need to go grocery shopping and do laundry this weekend.'],\n",
       " [\"I'm thinking about going on a vacation next month, but I haven't decided where yet.\"],\n",
       " [\"I'm enjoying this cup of coffee while I catch up on some work.\"],\n",
       " [\"My favorite color is blue, what's yours?\"],\n",
       " [\"I'm learning how to play the guitar in my free time.\"],\n",
       " [\"I'm planning to go for a run after work to clear my mind.\"],\n",
       " ['I love spending time with my mother'],\n",
       " ['You make my day brighter and I love it so much '],\n",
       " ['I think I met my soulmate'],\n",
       " ['I am head over heels for my current partner'],\n",
       " ['I love my family so much'],\n",
       " ['OMG I LOVE STEPH CURRY'],\n",
       " [\"There's nothing I wont do for the love of my life\"],\n",
       " ['I love how we can just be ourselves around each other, you complete me.'],\n",
       " ['I appreciate everything you do for me, I love you more every day.'],\n",
       " [\"I can't imagine my life without you, you mean everything to me.\"],\n",
       " [\"I'm so happy that I got the job I wanted!\"],\n",
       " ['Today is a beautiful day, I feel happy just being alive.'],\n",
       " [\"I'm thrilled to be going on vacation next week!\"],\n",
       " [\"I just found out that I'm going to be a parent, and I'm overjoyed!\"],\n",
       " [\"I'm so grateful for my family and friends, they make me incredibly happy.\"],\n",
       " [\"I'm feeling so happy and content right now, life is good.\"],\n",
       " ['I love spending time doing things that make me happy, like reading or going for walks.'],\n",
       " [\"I'm really proud of myself for accomplishing my goals, it makes me happy to see my hard work pay off.\"],\n",
       " ['I love waking up early on weekends and enjoying a quiet morning with a cup of coffee, it makes me so happy.'],\n",
       " [\"I'm so happy to be surrounded by positivity and good vibes, it makes life so much better.\"]]"
      ]
     },
     "execution_count": 21,
     "metadata": {},
     "output_type": "execute_result"
    }
   ],
   "source": [
    "new_list"
   ]
  },
  {
   "cell_type": "code",
   "execution_count": 22,
   "id": "1af5f7ba",
   "metadata": {},
   "outputs": [],
   "source": [
    "MAX_SEQUENCE_LENGTH = 30 # max length of text (words) including padding\n",
    "from keras.preprocessing.text import Tokenizer\n",
    "from keras_preprocessing.sequence import pad_sequences"
   ]
  },
  {
   "cell_type": "code",
   "execution_count": null,
   "id": "6cebe969",
   "metadata": {},
   "outputs": [],
   "source": [
    "sequences_test = tokenizer.texts_to_sequences(to_test)\n",
    "data_int_t = pad_sequences(sequences_test, padding='pre', maxlen=(MAX_SEQUENCE_LENGTH-5))\n",
    "data_test = pad_sequences(data_int_t, padding='post', maxlen=(MAX_SEQUENCE_LENGTH))"
   ]
  },
  {
   "cell_type": "code",
   "execution_count": 24,
   "id": "87f0840f",
   "metadata": {},
   "outputs": [],
   "source": [
    "final_list = []\n",
    "\n",
    "for i in new_list:\n",
    "    sequences_test = tokenizer.texts_to_sequences(i)\n",
    "    data_int_t = pad_sequences(sequences_test, padding='pre', maxlen=(MAX_SEQUENCE_LENGTH-5))\n",
    "    data_test = pad_sequences(data_int_t, padding='post', maxlen=(MAX_SEQUENCE_LENGTH))\n",
    "    final_list.append(data_test)"
   ]
  },
  {
   "cell_type": "code",
   "execution_count": 31,
   "id": "17847601",
   "metadata": {},
   "outputs": [],
   "source": [
    "y_prob = model.predict(final_list[0])"
   ]
  },
  {
   "cell_type": "code",
   "execution_count": 33,
   "id": "d228a1ed",
   "metadata": {},
   "outputs": [
    {
     "data": {
      "text/plain": [
       "50"
      ]
     },
     "execution_count": 33,
     "metadata": {},
     "output_type": "execute_result"
    }
   ],
   "source": [
    "len(final_list)"
   ]
  },
  {
   "cell_type": "code",
   "execution_count": 32,
   "id": "c7527ffa",
   "metadata": {},
   "outputs": [
    {
     "data": {
      "text/plain": [
       "2"
      ]
     },
     "execution_count": 32,
     "metadata": {},
     "output_type": "execute_result"
    }
   ],
   "source": [
    "y_prob.argmax()"
   ]
  },
  {
   "cell_type": "code",
   "execution_count": 37,
   "id": "791940e8",
   "metadata": {},
   "outputs": [],
   "source": [
    "pred = []"
   ]
  },
  {
   "cell_type": "code",
   "execution_count": 38,
   "id": "8d13e4f5",
   "metadata": {},
   "outputs": [],
   "source": [
    "for i in range(len(final_list)):\n",
    "    pred.append(model.predict(final_list[i]).argmax())"
   ]
  },
  {
   "cell_type": "code",
   "execution_count": 39,
   "id": "c9a0faf9",
   "metadata": {},
   "outputs": [
    {
     "data": {
      "text/plain": [
       "[2,\n",
       " 2,\n",
       " 2,\n",
       " 2,\n",
       " 2,\n",
       " 2,\n",
       " 2,\n",
       " 2,\n",
       " 2,\n",
       " 2,\n",
       " 2,\n",
       " 2,\n",
       " 4,\n",
       " 4,\n",
       " 4,\n",
       " 4,\n",
       " 2,\n",
       " 4,\n",
       " 2,\n",
       " 4,\n",
       " 0,\n",
       " 2,\n",
       " 1,\n",
       " 2,\n",
       " 2,\n",
       " 2,\n",
       " 1,\n",
       " 1,\n",
       " 1,\n",
       " 2,\n",
       " 3,\n",
       " 3,\n",
       " 1,\n",
       " 2,\n",
       " 3,\n",
       " 3,\n",
       " 3,\n",
       " 3,\n",
       " 3,\n",
       " 3,\n",
       " 2,\n",
       " 3,\n",
       " 1,\n",
       " 1,\n",
       " 3,\n",
       " 3,\n",
       " 3,\n",
       " 1,\n",
       " 3,\n",
       " 1]"
      ]
     },
     "execution_count": 39,
     "metadata": {},
     "output_type": "execute_result"
    }
   ],
   "source": [
    "pred"
   ]
  },
  {
   "cell_type": "code",
   "execution_count": 40,
   "id": "bcf6a862",
   "metadata": {},
   "outputs": [],
   "source": [
    "from sklearn.metrics import classification_report\n",
    "import seaborn as sn\n",
    "from sklearn.metrics import confusion_matrix\n",
    "import matplotlib.pyplot as plt\n",
    "import numpy\n",
    "from sklearn import metrics"
   ]
  },
  {
   "cell_type": "code",
   "execution_count": 41,
   "id": "f8a7b68e",
   "metadata": {},
   "outputs": [
    {
     "name": "stdout",
     "output_type": "stream",
     "text": [
      "              precision    recall  f1-score   support\n",
      "\n",
      "           0       1.00      0.10      0.18        10\n",
      "           1       0.44      0.40      0.42        10\n",
      "           2       0.48      1.00      0.65        10\n",
      "           3       0.62      0.80      0.70        10\n",
      "           4       1.00      0.60      0.75        10\n",
      "\n",
      "    accuracy                           0.58        50\n",
      "   macro avg       0.71      0.58      0.54        50\n",
      "weighted avg       0.71      0.58      0.54        50\n",
      "\n"
     ]
    }
   ],
   "source": [
    "print(classification_report(actual_emotion, pred))"
   ]
  },
  {
   "cell_type": "code",
   "execution_count": 42,
   "id": "099084e4",
   "metadata": {},
   "outputs": [],
   "source": [
    "x = confusion_matrix(actual_emotion, pred)"
   ]
  },
  {
   "cell_type": "code",
   "execution_count": 43,
   "id": "00859849",
   "metadata": {},
   "outputs": [],
   "source": [
    "classes = [\"Neutral\", \"Happy\", \"Sad\", \"Love\", \"Anger\"]"
   ]
  },
  {
   "cell_type": "code",
   "execution_count": 44,
   "id": "27582221",
   "metadata": {},
   "outputs": [
    {
     "data": {
      "text/plain": [
       "<AxesSubplot:>"
      ]
     },
     "execution_count": 44,
     "metadata": {},
     "output_type": "execute_result"
    },
    {
     "data": {
      "image/png": "[encoded data removed]",
      "text/plain": [
       "<Figure size 1080x720 with 2 Axes>"
      ]
     },
     "metadata": {
      "needs_background": "light"
     },
     "output_type": "display_data"
    }
   ],
   "source": [
    "df_cm = pd.DataFrame(x, index = [i for i in classes],\n",
    "                  columns = [i for i in classes])\n",
    "plt.figure(figsize = (15,10))\n",
    "\n",
    "sn.heatmap(df_cm, annot=True)"
   ]
  },
  {
   "cell_type": "code",
   "execution_count": 1,
   "id": "ab2e62dc",
   "metadata": {},
   "outputs": [],
   "source": [
    "#Testing the model on 8 different messages"
   ]
  },
  {
   "cell_type": "code",
   "execution_count": 15,
   "id": "e1b5cea8",
   "metadata": {},
   "outputs": [
    {
     "name": "stderr",
     "output_type": "stream",
     "text": [
      "[nltk_data] Downloading package stopwords to\n",
      "[nltk_data]     C:\\Users\\94773\\AppData\\Roaming\\nltk_data...\n",
      "[nltk_data]   Package stopwords is already up-to-date!\n",
      "[nltk_data] Downloading package wordnet to\n",
      "[nltk_data]     C:\\Users\\94773\\AppData\\Roaming\\nltk_data...\n",
      "[nltk_data]   Package wordnet is already up-to-date!\n"
     ]
    }
   ],
   "source": [
    "import pickle\n",
    "import nltk\n",
    "nltk.download('stopwords')\n",
    "nltk.download('wordnet')\n",
    "\n",
    "from nltk.corpus import stopwords\n",
    "from textblob import Word\n",
    "\n",
    "stop = stopwords.words('english')"
   ]
  },
  {
   "cell_type": "code",
   "execution_count": 28,
   "id": "fb7bdd8a",
   "metadata": {},
   "outputs": [],
   "source": [
    "# tokenizer object loaded to map texts into sequences\n",
    "with open('tokenizer.pickle', 'rb') as handle:\n",
    "    tokenizer = pickle.load(handle)"
   ]
  },
  {
   "cell_type": "code",
   "execution_count": 29,
   "id": "3b5cab3d",
   "metadata": {},
   "outputs": [],
   "source": [
    "from keras.models import load_model\n",
    "from keras.preprocessing.sequence import pad_sequences"
   ]
  },
  {
   "cell_type": "code",
   "execution_count": 30,
   "id": "706e3738",
   "metadata": {},
   "outputs": [],
   "source": [
    "model = load_model(\"CNNWeights.h5\")\n",
    "stop = stopwords.words('english')\n",
    "MAX_SEQUENCE_LENGTH = 30"
   ]
  },
  {
   "cell_type": "code",
   "execution_count": 44,
   "id": "42b6ce18",
   "metadata": {},
   "outputs": [
    {
     "name": "stdout",
     "output_type": "stream",
     "text": [
      "[0.18423396 0.36593562 0.1986597  0.24593389 0.00523675]\n"
     ]
    }
   ],
   "source": [
    "message = \"im happy to meet my parents soon!\"\n",
    "message = ' '.join([word for word in message.split() if word not in stop])\n",
    "message = \" \".join([Word(word).lemmatize() for word in message.split()])\n",
    "message = [message]\n",
    "\n",
    "sequences = tokenizer.texts_to_sequences(message)\n",
    "pre_padding = pad_sequences(sequences, padding='pre', maxlen=(MAX_SEQUENCE_LENGTH - 5))\n",
    "post_padding = pad_sequences(pre_padding, padding='post', maxlen=MAX_SEQUENCE_LENGTH)\n",
    "\n",
    "y_prob = model.predict(post_padding)\n",
    "print(y_prob[0])"
   ]
  },
  {
   "cell_type": "code",
   "execution_count": null,
   "id": "8e08e324",
   "metadata": {},
   "outputs": [],
   "source": [
    "#[\"neutral\", \"happy\", \"sad\", \"love\", \"anger\"]"
   ]
  },
  {
   "cell_type": "code",
   "execution_count": null,
   "id": "d8fd2a15",
   "metadata": {},
   "outputs": [],
   "source": []
  }
 ],
 "metadata": {
  "kernelspec": {
   "display_name": "Python 3 (ipykernel)",
   "language": "python",
   "name": "python3"
  },
  "language_info": {
   "codemirror_mode": {
    "name": "ipython",
    "version": 3
   },
   "file_extension": ".py",
   "mimetype": "text/x-python",
   "name": "python",
   "nbconvert_exporter": "python",
   "pygments_lexer": "ipython3",
   "version": "3.9.12"
  }
 },
 "nbformat": 4,
 "nbformat_minor": 5
}
